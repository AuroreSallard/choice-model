{
 "cells": [
  {
   "cell_type": "code",
   "execution_count": 4,
   "metadata": {},
   "outputs": [],
   "source": [
    "import pandas as pd\n",
    "import geopandas as gpd"
   ]
  },
  {
   "cell_type": "code",
   "execution_count": 5,
   "metadata": {},
   "outputs": [],
   "source": [
    "survey_path = \"../../results/surveys/egt_2010/cleaned\"\n",
    "spatial_path = \"../../results/surveys/egt_2010/spatial.parquet\"\n",
    "output_path = \"../../results/road/survey.parquet\""
   ]
  },
  {
   "cell_type": "code",
   "execution_count": 6,
   "metadata": {},
   "outputs": [],
   "source": [
    "# Load survey data\n",
    "df_persons = pd.read_parquet(\"{}/persons.parquet\".format(survey_path))\n",
    "df_trips = pd.read_parquet(\"{}/trips.parquet\".format(survey_path))\n",
    "df_spatial = gpd.read_parquet(spatial_path)"
   ]
  },
  {
   "cell_type": "code",
   "execution_count": 7,
   "metadata": {},
   "outputs": [],
   "source": [
    "# Prepare spatial data\n",
    "df_spatial[\"origin_x\"] = df_spatial[\"origin_geometry\"].x\n",
    "df_spatial[\"origin_y\"] = df_spatial[\"origin_geometry\"].y\n",
    "df_spatial[\"destination_x\"] = df_spatial[\"destination_geometry\"].x\n",
    "df_spatial[\"destination_y\"] = df_spatial[\"destination_geometry\"].y"
   ]
  },
  {
   "cell_type": "code",
   "execution_count": 8,
   "metadata": {},
   "outputs": [],
   "source": [
    "# Only keep valid car trips\n",
    "df_trips = df_trips[\n",
    "    (df_trips[\"mode\"] == \"car\") & df_trips[\"is_valid\"]\n",
    "].copy()\n",
    "\n",
    "# Merge in weight\n",
    "df_trips = pd.merge(df_trips, df_persons[[\"person_id\", \"weight\"]])\n",
    "\n",
    "# Merge in spatial data\n",
    "df_trips = pd.merge(df_trips, df_spatial)[[\n",
    "    \"trip_id\",\n",
    "    \"origin_x\", \"origin_y\",\n",
    "    \"destination_x\", \"destination_y\",\n",
    "    \"travel_time\", \"departure_time\", \"weight\"\n",
    "]].rename(columns = {\n",
    "    \"travel_time\": \"survey_travel_time_s\"\n",
    "})"
   ]
  },
  {
   "cell_type": "code",
   "execution_count": 9,
   "metadata": {},
   "outputs": [],
   "source": [
    "# Output\n",
    "df_trips.to_parquet(output_path)"
   ]
  }
 ],
 "metadata": {
  "kernelspec": {
   "display_name": "explo24",
   "language": "python",
   "name": "python3"
  },
  "language_info": {
   "codemirror_mode": {
    "name": "ipython",
    "version": 3
   },
   "file_extension": ".py",
   "mimetype": "text/x-python",
   "name": "python",
   "nbconvert_exporter": "python",
   "pygments_lexer": "ipython3",
   "version": "3.12.0"
  }
 },
 "nbformat": 4,
 "nbformat_minor": 2
}
