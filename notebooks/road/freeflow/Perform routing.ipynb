{
 "cells": [
  {
   "cell_type": "code",
   "execution_count": 1,
   "metadata": {},
   "outputs": [],
   "source": [
    "import pandas as pd\n",
    "import numpy as np\n",
    "\n",
    "from tqdm.notebook import tqdm\n",
    "import requests\n",
    "\n",
    "import pickle"
   ]
  },
  {
   "cell_type": "code",
   "execution_count": 2,
   "metadata": {},
   "outputs": [],
   "source": [
    "reference_path = \"../../../results/road/freeflow/reference_api.parquet\"\n",
    "calibration_path = \"../../../results/road/freeflow/calibration_cache_api.pickle\"\n",
    "output_path = \"../../../results/road/freeflow/output.parquet\"\n",
    "\n",
    "routing_endpoint = \"http://localhost:8054/router/road\"\n",
    "\n",
    "departure_time = 4 * 3600\n",
    "maximum_batch_size = 400"
   ]
  },
  {
   "cell_type": "code",
   "execution_count": 3,
   "metadata": {},
   "outputs": [],
   "source": [
    "# Load reference\n",
    "df_reference = pd.read_parquet(reference_path)"
   ]
  },
  {
   "cell_type": "code",
   "execution_count": 4,
   "metadata": {},
   "outputs": [],
   "source": [
    "# Prepare requests\n",
    "df_reference[\"request_index\"] = np.arange(len(df_reference))\n",
    "\n",
    "# Convert to requests\n",
    "request_list = []\n",
    "\n",
    "for index, row in df_reference.iterrows():\n",
    "    request_list.append({\n",
    "        \"request_index\": int(row[\"request_index\"]),\n",
    "        \"origin_x\": row[\"origin_x\"],\n",
    "        \"origin_y\": row[\"origin_y\"],\n",
    "        \"destination_x\": row[\"destination_x\"],\n",
    "        \"destination_y\": row[\"destination_y\"],\n",
    "        \"departure_time_s\": departure_time\n",
    "    })"
   ]
  },
  {
   "cell_type": "code",
   "execution_count": 5,
   "metadata": {},
   "outputs": [],
   "source": [
    "# Prepare querying\n",
    "def query_requests(request_list, settings):\n",
    "    df_response = []\n",
    "    batch_index = 0\n",
    "\n",
    "    while batch_index * maximum_batch_size < len(request_list):\n",
    "        batch = request_list[batch_index * maximum_batch_size : (batch_index + 1) * maximum_batch_size]\n",
    "\n",
    "        response = requests.post(\"http://localhost:8054/router/road\", json = {\n",
    "            \"batch\": batch,\n",
    "            \"freespeed\": settings\n",
    "        })\n",
    "\n",
    "        df_response.append(pd.DataFrame.from_records(response.json()))\n",
    "        batch_index += 1\n",
    "\n",
    "    return pd.concat(df_response)"
   ]
  },
  {
   "cell_type": "code",
   "execution_count": 6,
   "metadata": {},
   "outputs": [],
   "source": [
    "# Obtain settings\n",
    "with open(calibration_path, \"rb\") as f:\n",
    "    history = pickle.load(f)\n",
    "\n",
    "objective = np.inf\n",
    "settings = None\n",
    "\n",
    "for item in history:\n",
    "    if item[\"objective\"] < objective:\n",
    "        settings = item[\"settings\"]"
   ]
  },
  {
   "cell_type": "code",
   "execution_count": 7,
   "metadata": {},
   "outputs": [],
   "source": [
    "df_response = query_requests(request_list, settings)"
   ]
  },
  {
   "cell_type": "code",
   "execution_count": 8,
   "metadata": {},
   "outputs": [],
   "source": [
    "df_response = pd.merge(\n",
    "    df_response, df_reference[[\"request_index\", \"trip_id\"]], on = \"request_index\")\n",
    "\n",
    "df_response = df_response.drop(\n",
    "    columns = [\"request_index\"])"
   ]
  },
  {
   "cell_type": "code",
   "execution_count": 9,
   "metadata": {},
   "outputs": [],
   "source": [
    "df_response.to_parquet(output_path)"
   ]
  }
 ],
 "metadata": {
  "kernelspec": {
   "display_name": "Python 3 (ipykernel)",
   "language": "python",
   "name": "python3"
  },
  "language_info": {
   "codemirror_mode": {
    "name": "ipython",
    "version": 3
   },
   "file_extension": ".py",
   "mimetype": "text/x-python",
   "name": "python",
   "nbconvert_exporter": "python",
   "pygments_lexer": "ipython3",
   "version": "3.12.0"
  }
 },
 "nbformat": 4,
 "nbformat_minor": 4
}
