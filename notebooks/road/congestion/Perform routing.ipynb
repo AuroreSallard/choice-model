{
 "cells": [
  {
   "cell_type": "code",
   "execution_count": 1,
   "metadata": {},
   "outputs": [],
   "source": [
    "import pandas as pd\n",
    "import geopandas as gpd\n",
    "import pickle\n",
    "import numpy as np\n",
    "import requests"
   ]
  },
  {
   "cell_type": "code",
   "execution_count": 2,
   "metadata": {},
   "outputs": [],
   "source": [
    "survey_path = \"../../../results/surveys/egt_2010/cleaned/trips.parquet\"\n",
    "spatial_path = \"../../../results/surveys/egt_2010/spatial.parquet\"\n",
    "\n",
    "calibration_path = \"../../../results/road/freeflow/calibration_cache_api.pickle\"\n",
    "congestion_path = \"../../../results/road/congestion_factors.parquet\"\n",
    "\n",
    "routing_endpoint = \"http://localhost:8054/router/road\"\n",
    "departure_time = 4 * 3600\n",
    "maximum_batch_size = 400\n",
    "\n",
    "output_path = \"../../../results/road/routing.parquet\""
   ]
  },
  {
   "cell_type": "code",
   "execution_count": 3,
   "metadata": {},
   "outputs": [],
   "source": [
    "# Load survey data\n",
    "df_survey = pd.read_parquet(survey_path)\n",
    "df_spatial = gpd.read_parquet(spatial_path)"
   ]
  },
  {
   "cell_type": "code",
   "execution_count": 4,
   "metadata": {},
   "outputs": [],
   "source": [
    "# Prepare spatial data\n",
    "df_spatial[\"origin_x\"] = df_spatial[\"origin_geometry\"].x\n",
    "df_spatial[\"origin_y\"] = df_spatial[\"origin_geometry\"].y\n",
    "df_spatial[\"destination_x\"] = df_spatial[\"destination_geometry\"].x\n",
    "df_spatial[\"destination_y\"] = df_spatial[\"destination_geometry\"].y"
   ]
  },
  {
   "cell_type": "code",
   "execution_count": 5,
   "metadata": {},
   "outputs": [],
   "source": [
    "# Merge in spatial data\n",
    "df_survey = pd.merge(df_survey, df_spatial)[[\n",
    "    \"trip_id\",\n",
    "    \"origin_x\", \"origin_y\",\n",
    "    \"destination_x\", \"destination_y\",\n",
    "    \"departure_time\"\n",
    "]].copy()"
   ]
  },
  {
   "cell_type": "code",
   "execution_count": 6,
   "metadata": {},
   "outputs": [
    {
     "data": {
      "text/plain": [
       "{'major_factor': 1.0000000000964675,\n",
       " 'intermediate_factor': 1.000000000110372,\n",
       " 'minor_factor': 1.0000000000071958,\n",
       " 'major_crossing_penalty_s': 4.20563605332865,\n",
       " 'minor_crossing_penalty_s': 1.1414043230895694e-09}"
      ]
     },
     "execution_count": 6,
     "metadata": {},
     "output_type": "execute_result"
    }
   ],
   "source": [
    "# Load freeflow routing parameters\n",
    "with open(calibration_path, \"rb\") as f:\n",
    "    history = pickle.load(f)\n",
    "\n",
    "objective = np.inf\n",
    "best = None\n",
    "\n",
    "for item in history:\n",
    "    if item[\"objective\"] < objective:\n",
    "        best = item\n",
    "        # break # use first\n",
    "\n",
    "settings = best[\"settings\"]\n",
    "settings"
   ]
  },
  {
   "cell_type": "code",
   "execution_count": 7,
   "metadata": {},
   "outputs": [],
   "source": [
    "# Prepare requests\n",
    "df_survey[\"request_index\"] = np.arange(len(df_survey))\n",
    "\n",
    "# Convert to requests\n",
    "request_list = []\n",
    "\n",
    "for index, row in df_survey.iterrows():\n",
    "    request_list.append({\n",
    "        \"request_index\": int(row[\"request_index\"]),\n",
    "        \"origin_x\": row[\"origin_x\"],\n",
    "        \"origin_y\": row[\"origin_y\"],\n",
    "        \"destination_x\": row[\"destination_x\"],\n",
    "        \"destination_y\": row[\"destination_y\"],\n",
    "        \"departure_time_s\": departure_time\n",
    "    })"
   ]
  },
  {
   "cell_type": "code",
   "execution_count": 8,
   "metadata": {},
   "outputs": [],
   "source": [
    "# Prepare querying\n",
    "def query_requests(request_list, settings):\n",
    "    df_response = []\n",
    "    batch_index = 0\n",
    "\n",
    "    while batch_index * maximum_batch_size < len(request_list):\n",
    "        batch = request_list[batch_index * maximum_batch_size : (batch_index + 1) * maximum_batch_size]\n",
    "\n",
    "        response = requests.post(routing_endpoint, json = {\n",
    "            \"batch\": batch,\n",
    "            \"freespeed\": settings\n",
    "        })\n",
    "\n",
    "        df_response.append(pd.DataFrame.from_records(response.json()))\n",
    "        batch_index += 1\n",
    "\n",
    "    return pd.concat(df_response)"
   ]
  },
  {
   "cell_type": "code",
   "execution_count": 9,
   "metadata": {},
   "outputs": [],
   "source": [
    "# Test connection\n",
    "assert len(query_requests(request_list[:5], settings)) == 5"
   ]
  },
  {
   "cell_type": "code",
   "execution_count": 10,
   "metadata": {},
   "outputs": [],
   "source": [
    "# Obtain response\n",
    "df_response = query_requests(request_list, settings)"
   ]
  },
  {
   "cell_type": "code",
   "execution_count": 11,
   "metadata": {},
   "outputs": [],
   "source": [
    "df_response = pd.merge(df_response, df_survey[[\n",
    "    \"request_index\", \"trip_id\", \"departure_time\"\n",
    "]], on = \"request_index\")[[\n",
    "    \"trip_id\", \"departure_time\",\n",
    "    \"in_vehicle_distance_km\", \"in_vehicle_time_min\",\n",
    "    \"access_time_min\", \"egress_time_min\",\n",
    "    \"access_distance_km\", \"egress_distance_km\"\n",
    "]]"
   ]
  },
  {
   "cell_type": "code",
   "execution_count": 12,
   "metadata": {},
   "outputs": [],
   "source": [
    "# Remove NaN\n",
    "df_response = df_response[~df_response[\"departure_time\"].isna()]\n",
    "\n",
    "# Calculate hour\n",
    "df_response[\"hour\"] = df_response[\"departure_time\"] // 3600\n",
    "df_response.loc[df_response[\"hour\"] > 23, \"hour\"] -= 24\n",
    "df_response[\"hour\"] = df_response[\"hour\"].astype(int)"
   ]
  },
  {
   "cell_type": "code",
   "execution_count": 13,
   "metadata": {},
   "outputs": [],
   "source": [
    "df_congestion = pd.read_parquet(congestion_path)\n",
    "df_response = pd.merge(df_response, df_congestion, on = \"hour\")\n",
    "df_response[\"in_vehicle_time_min\"] *= df_response[\"congestion_factor\"]"
   ]
  },
  {
   "cell_type": "code",
   "execution_count": 14,
   "metadata": {},
   "outputs": [],
   "source": [
    "df_response.to_parquet(output_path)"
   ]
  }
 ],
 "metadata": {
  "kernelspec": {
   "display_name": "explo24",
   "language": "python",
   "name": "python3"
  },
  "language_info": {
   "codemirror_mode": {
    "name": "ipython",
    "version": 3
   },
   "file_extension": ".py",
   "mimetype": "text/x-python",
   "name": "python",
   "nbconvert_exporter": "python",
   "pygments_lexer": "ipython3",
   "version": "3.12.5"
  }
 },
 "nbformat": 4,
 "nbformat_minor": 2
}
