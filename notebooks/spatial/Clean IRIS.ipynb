{
 "cells": [
  {
   "cell_type": "code",
   "execution_count": 1,
   "metadata": {},
   "outputs": [],
   "source": [
    "import geopandas as gpd\n",
    "import pandas as pd\n",
    "import py7zr, tempfile"
   ]
  },
  {
   "cell_type": "code",
   "execution_count": 2,
   "metadata": {},
   "outputs": [],
   "source": [
    "iris_path = \"../../resources/iris/CONTOURS-IRIS_2-1__SHP__FRA_2020-01-01.7z\"\n",
    "\n",
    "departments = [\"75\", \"92\", \"93\", \"94\", \"95\", \"77\", \"91\", \"78\"]\n",
    "\n",
    "output_path = \"../../results/spatial/iris.parquet\""
   ]
  },
  {
   "cell_type": "code",
   "execution_count": 3,
   "metadata": {},
   "outputs": [],
   "source": [
    "with tempfile.TemporaryDirectory() as directory:\n",
    "    with py7zr.SevenZipFile(iris_path) as archive:\n",
    "        archive.extractall(directory)\n",
    "\n",
    "        df_iris = gpd.read_file(\"/\".join([\n",
    "            directory, \n",
    "            \"CONTOURS-IRIS_2-1__SHP__FRA_2020-01-01\",\n",
    "            \"CONTOURS-IRIS\",\n",
    "            \"1_DONNEES_LIVRAISON_2020-12-00282\",\n",
    "            \"CONTOURS-IRIS_2-1_SHP_LAMB93_FXX-2020\",\n",
    "            \"CONTOURS-IRIS.shp\"\n",
    "        ]))"
   ]
  },
  {
   "cell_type": "code",
   "execution_count": 4,
   "metadata": {},
   "outputs": [],
   "source": [
    "# Filter departments\n",
    "df_iris = df_iris[df_iris[\"INSEE_COM\"].str[:2].isin(departments)]"
   ]
  },
  {
   "cell_type": "code",
   "execution_count": 5,
   "metadata": {},
   "outputs": [],
   "source": [
    "df_iris = df_iris.rename(columns = {\n",
    "    \"CODE_IRIS\": \"iris\"\n",
    "})[[\"iris\", \"geometry\"]]"
   ]
  },
  {
   "cell_type": "code",
   "execution_count": 6,
   "metadata": {},
   "outputs": [],
   "source": [
    "df_iris[\"iris\"] = df_iris[\"iris\"].astype(str)"
   ]
  },
  {
   "cell_type": "code",
   "execution_count": 7,
   "metadata": {},
   "outputs": [],
   "source": [
    "df_iris.to_parquet(output_path)"
   ]
  }
 ],
 "metadata": {
  "kernelspec": {
   "display_name": "explo24",
   "language": "python",
   "name": "python3"
  },
  "language_info": {
   "codemirror_mode": {
    "name": "ipython",
    "version": 3
   },
   "file_extension": ".py",
   "mimetype": "text/x-python",
   "name": "python",
   "nbconvert_exporter": "python",
   "pygments_lexer": "ipython3",
   "version": "3.12.0"
  }
 },
 "nbformat": 4,
 "nbformat_minor": 2
}
