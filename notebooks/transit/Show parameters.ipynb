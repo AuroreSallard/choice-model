{
 "cells": [
  {
   "cell_type": "code",
   "execution_count": 1,
   "metadata": {},
   "outputs": [],
   "source": [
    "import pickle\n",
    "import numpy as np"
   ]
  },
  {
   "cell_type": "code",
   "execution_count": 2,
   "metadata": {},
   "outputs": [],
   "source": [
    "parameters_path = \"../../results/transit/calibration.p\""
   ]
  },
  {
   "cell_type": "code",
   "execution_count": 3,
   "metadata": {},
   "outputs": [],
   "source": [
    "# Load utilities\n",
    "with open(parameters_path, \"rb\") as f:\n",
    "    parameters = pickle.load(f)\n",
    "\n",
    "    objectives = [item[\"objective\"] for item in parameters]\n",
    "    best_index = np.argmin(objectives)\n",
    "\n",
    "    utilities = parameters[best_index][\"utilities\"]"
   ]
  },
  {
   "cell_type": "code",
   "execution_count": 4,
   "metadata": {},
   "outputs": [
    {
     "data": {
      "text/plain": [
       "{'rail_u_h': np.float64(-1.4278139352278472),\n",
       " 'subway_u_h': -1.0,\n",
       " 'bus_u_h': np.float64(-2.835025304050246),\n",
       " 'tram_u_h': np.float64(-3.199594607188756),\n",
       " 'other_u_h': np.float64(-2.835025304050246),\n",
       " 'wait_u_h': np.float64(-0.497984826174775),\n",
       " 'walk_u_h': np.float64(-3.8494071051697385),\n",
       " 'transfer_u': np.float64(-0.5441109013512305)}"
      ]
     },
     "execution_count": 4,
     "metadata": {},
     "output_type": "execute_result"
    }
   ],
   "source": [
    "utilities"
   ]
  }
 ],
 "metadata": {
  "kernelspec": {
   "display_name": "explo24",
   "language": "python",
   "name": "python3"
  },
  "language_info": {
   "codemirror_mode": {
    "name": "ipython",
    "version": 3
   },
   "file_extension": ".py",
   "mimetype": "text/x-python",
   "name": "python",
   "nbconvert_exporter": "python",
   "pygments_lexer": "ipython3",
   "version": "3.12.5"
  }
 },
 "nbformat": 4,
 "nbformat_minor": 2
}
