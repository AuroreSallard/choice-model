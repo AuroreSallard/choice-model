{
 "cells": [
  {
   "cell_type": "code",
   "execution_count": 1,
   "metadata": {},
   "outputs": [],
   "source": [
    "import pickle, os\n",
    "import requests as reqlib\n",
    "\n",
    "import pandas as pd\n",
    "import numpy as np\n",
    "import geopandas as gpd\n",
    "\n",
    "from tqdm.notebook import tqdm"
   ]
  },
  {
   "cell_type": "code",
   "execution_count": 2,
   "metadata": {},
   "outputs": [],
   "source": [
    "survey_path = \"../../results/surveys/egt_2010/cleaned\"\n",
    "spatial_path = \"../../results/surveys/egt_2010/spatial.parquet\"\n",
    "parameters_path = \"../../results/transit/calibration.p\"\n",
    "\n",
    "output_path = \"../../results/transit/routing.parquet\"\n",
    "\n",
    "routing_endpoint = \"http://localhost:8054/router/transit\"\n",
    "routing_endpoint = \"http://localhost:8029/router/transit\""
   ]
  },
  {
   "cell_type": "code",
   "execution_count": 3,
   "metadata": {},
   "outputs": [],
   "source": [
    "df_trips = pd.read_parquet(\"{}/trips.parquet\".format(survey_path))\n",
    "df_spatial = gpd.read_parquet(spatial_path)"
   ]
  },
  {
   "cell_type": "code",
   "execution_count": 4,
   "metadata": {},
   "outputs": [],
   "source": [
    "# Prepare spatial data\n",
    "df_spatial[\"origin_x\"] = df_spatial[\"origin_geometry\"].x\n",
    "df_spatial[\"origin_y\"] = df_spatial[\"origin_geometry\"].y\n",
    "df_spatial[\"destination_x\"] = df_spatial[\"destination_geometry\"].x\n",
    "df_spatial[\"destination_y\"] = df_spatial[\"destination_geometry\"].y\n",
    "\n",
    "# Only keep valid trips\n",
    "df_trips = df_trips[df_trips[\"is_valid\"]].copy()\n",
    "\n",
    "# Merge in spatial data\n",
    "df_trips = pd.merge(df_trips, df_spatial[[\n",
    "    \"trip_id\",\n",
    "    \"origin_x\", \"origin_y\",\n",
    "    \"destination_x\", \"destination_y\"\n",
    "]])\n",
    "\n",
    "# Add request index\n",
    "df_trips[\"request_index\"] = np.arange(len(df_trips))"
   ]
  },
  {
   "cell_type": "code",
   "execution_count": 5,
   "metadata": {},
   "outputs": [],
   "source": [
    "# Convert to requests\n",
    "requests = []\n",
    "\n",
    "for index, row in df_trips.iterrows():\n",
    "    requests.append({\n",
    "        \"request_index\": int(row[\"request_index\"]),\n",
    "        \"origin_x\": row[\"origin_x\"],\n",
    "        \"origin_y\": row[\"origin_y\"],\n",
    "        \"destination_x\": row[\"destination_x\"],\n",
    "        \"destination_y\": row[\"destination_y\"],\n",
    "        \"departure_time_s\": row[\"departure_time\"]\n",
    "    })"
   ]
  },
  {
   "cell_type": "code",
   "execution_count": 6,
   "metadata": {},
   "outputs": [],
   "source": [
    "# Load utilities\n",
    "with open(parameters_path, \"rb\") as f:\n",
    "    parameters = pickle.load(f)\n",
    "\n",
    "    objectives = [item[\"objective\"] for item in parameters]\n",
    "    best_index = np.argmin(objectives)\n",
    "\n",
    "    utilities = parameters[best_index][\"utilities\"]"
   ]
  },
  {
   "cell_type": "code",
   "execution_count": 7,
   "metadata": {},
   "outputs": [
    {
     "data": {
      "application/vnd.jupyter.widget-view+json": {
       "model_id": "89ab6781445f4fa59b5157f429446d2b",
       "version_major": 2,
       "version_minor": 0
      },
      "text/plain": [
       "  0%|          | 0/123223 [00:00<?, ?it/s]"
      ]
     },
     "metadata": {},
     "output_type": "display_data"
    }
   ],
   "source": [
    "# Query results\n",
    "maximum_batch_size = 400\n",
    "\n",
    "df_response = []\n",
    "batch_index = 0\n",
    "\n",
    "with tqdm(total = len(requests)) as progress:\n",
    "    while batch_index * maximum_batch_size < len(requests):\n",
    "        batch = requests[batch_index * maximum_batch_size : (batch_index + 1) * maximum_batch_size]\n",
    "\n",
    "        response = reqlib.post(routing_endpoint, json = {\n",
    "            \"batch\": batch,\n",
    "            \"utilities\": utilities\n",
    "        })\n",
    "\n",
    "        df_response.append(pd.DataFrame.from_records(response.json()))\n",
    "        progress.update(len(batch))\n",
    "\n",
    "        batch_index += 1\n",
    "\n",
    "df_response = pd.concat(df_response)"
   ]
  },
  {
   "cell_type": "code",
   "execution_count": 8,
   "metadata": {},
   "outputs": [],
   "source": [
    "df_response = pd.merge(df_response, df_trips[[\"request_index\", \"trip_id\"]], on = \"request_index\")\n",
    "df_response = df_response.drop(columns = [\"request_index\"])"
   ]
  },
  {
   "cell_type": "code",
   "execution_count": 9,
   "metadata": {},
   "outputs": [],
   "source": [
    "df_response.to_parquet(output_path)"
   ]
  }
 ],
 "metadata": {
  "kernelspec": {
   "display_name": "explo24",
   "language": "python",
   "name": "python3"
  },
  "language_info": {
   "codemirror_mode": {
    "name": "ipython",
    "version": 3
   },
   "file_extension": ".py",
   "mimetype": "text/x-python",
   "name": "python",
   "nbconvert_exporter": "python",
   "pygments_lexer": "ipython3",
   "version": "3.12.5"
  }
 },
 "nbformat": 4,
 "nbformat_minor": 2
}
