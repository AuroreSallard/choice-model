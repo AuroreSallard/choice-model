{
 "cells": [
  {
   "cell_type": "code",
   "execution_count": 1,
   "metadata": {},
   "outputs": [],
   "source": [
    "import pandas as pd\n",
    "import numpy as np"
   ]
  },
  {
   "cell_type": "code",
   "execution_count": 2,
   "metadata": {},
   "outputs": [],
   "source": [
    "input_path = \"../../results/choice_model/input.parquet\"\n",
    "df = pd.read_parquet(input_path)\n",
    "\n",
    "modes = [\"car\", \"car_passenger\", \"transit\", \"bicycle\", \"walk\"]\n",
    "\n",
    "for column in df.columns:\n",
    "    if column.startswith(\"motorbike_\"):\n",
    "        modes.append(\"motorbike\")\n",
    "        break"
   ]
  },
  {
   "cell_type": "code",
   "execution_count": 3,
   "metadata": {},
   "outputs": [],
   "source": [
    "for mode in modes:\n",
    "    df[\"{}_availability\".format(mode)] = df[\"{}_availability\".format(mode)].astype(int)\n",
    "\n",
    "df[\"mode\"] = df[\"mode\"].apply(modes.index)\n",
    "df[\"weight\"] = len(df) * df[\"weight\"] / df[\"weight\"].sum()\n",
    "\n",
    "df = df.drop(columns = [\"origin_iris\", \"destination_iris\"])\n",
    "\n",
    "for column in [\"has_driving_permit\", \"has_motorbike_permit\", \"has_pt_subscription\", \"transit_only_bus\"]:\n",
    "    if column in df:\n",
    "        df[column] = df[column].astype(int)"
   ]
  },
  {
   "cell_type": "code",
   "execution_count": 4,
   "metadata": {},
   "outputs": [],
   "source": [
    "import biogeme.database as db\n",
    "import biogeme.biogeme as bio\n",
    "from biogeme import models\n",
    "from biogeme.expressions import Beta, Variable, bioNormalCdf, Elem, log"
   ]
  },
  {
   "cell_type": "code",
   "execution_count": 5,
   "metadata": {},
   "outputs": [],
   "source": [
    "database = db.Database(\"data\", df)\n",
    "\n",
    "mode = db.Variable(\"mode\")\n",
    "weight = db.Variable(\"weight\")\n",
    "euclidean_distance_km = db.Variable(\"euclidean_distance_km\")\n",
    "\n",
    "# person\n",
    "person_has_driving_permit = db.Variable(\"has_driving_permit\")\n",
    "\n",
    "# income\n",
    "if \"income_per_person_EUR\" in df:\n",
    "    income_per_person_EUR = db.Variable(\"income_EUR\")\n",
    "\n",
    "# car\n",
    "car_availability = db.Variable(\"car_availability\")\n",
    "car_in_vehicle_time_min = db.Variable(\"car_in_vehicle_time_min\")\n",
    "car_walk_time_min = db.Variable(\"car_walk_time_min\")\n",
    "car_cost_EUR = db.Variable(\"car_cost_EUR\")\n",
    "\n",
    "# parking\n",
    "parking_cost_EUR = db.Variable(\"parking_cost_EUR\")\n",
    "parking_pressure = db.Variable(\"parking_pressure\")\n",
    "\n",
    "# car passenger\n",
    "car_passenger_availability = db.Variable(\"car_passenger_availability\")\n",
    "car_passenger_in_vehicle_time_min = db.Variable(\"car_passenger_in_vehicle_time_min\")\n",
    "car_passenger_walk_time_min = db.Variable(\"car_passenger_walk_time_min\")\n",
    "\n",
    "\n",
    "if \"motorbike\" in modes:\n",
    "    # motorbike\n",
    "    motorbike_availability = db.Variable(\"motorbike_availability\")\n",
    "    motorbike_in_vehicle_time_min = db.Variable(\"motorbike_in_vehicle_time_min\")\n",
    "    motorbike_walk_time_min = db.Variable(\"motorbike_walk_time_min\")\n",
    "    motorbike_cost_EUR = db.Variable(\"motorbike_cost_EUR\")\n",
    "\n",
    "# transit\n",
    "transit_availability = db.Variable(\"transit_availability\")\n",
    "transit_total_walk_time_min = db.Variable(\"transit_total_walk_time_min\")\n",
    "transit_total_in_vehicle_time_min = db.Variable(\"transit_total_in_vehicle_time_min\")\n",
    "transit_transfers = db.Variable(\"transit_transfers\")\n",
    "transit_transfer_wait_time_min = db.Variable(\"transit_transfer_wait_time_min\")\n",
    "transit_initial_wait_time_min = db.Variable(\"transit_initial_wait_time_min\")\n",
    "transit_cost_EUR = db.Variable(\"transit_cost_EUR\")\n",
    "transit_in_vehicle_time_bus_min = db.Variable(\"transit_in_vehicle_time_bus_min\")\n",
    "transit_only_bus = db.Variable(\"transit_only_bus\")\n",
    "\n",
    "# bicycle\n",
    "bicycle_availability = db.Variable(\"bicycle_availability\")\n",
    "bicycle_travel_time_min = db.Variable(\"bicycle_travel_time_min\")\n",
    "\n",
    "# walk\n",
    "walk_availability = db.Variable(\"walk_availability\")\n",
    "walk_travel_time_min = db.Variable(\"walk_travel_time_min\")"
   ]
  },
  {
   "cell_type": "code",
   "execution_count": 6,
   "metadata": {},
   "outputs": [],
   "source": [
    "lambda_cost_distance = Beta(\"lambda_cost_distance\", -0.1, None, None, 0)\n",
    "lambda_cost_income = Beta(\"lambda_cost_income\", -0.1, None, None, 0)\n",
    "\n",
    "beta_cost_EUR = Beta(\"beta_cost_EUR\", 0, None, None, 0)\n",
    "\n",
    "beta_car_asc = Beta(\"beta_car_asc\", 0, None, None, 0)\n",
    "beta_car_in_vehicle_time_min = Beta(\"beta_car_in_vehicle_time_min\", 0, None, None, 0)\n",
    "beta_car_walk_time_min = Beta(\"beta_car_walk_time_min\", 0, None, None, 0)\n",
    "beta_car_parking_pressure = Beta(\"beta_car_parking_pressure\", 0, None, None, 0)\n",
    "\n",
    "beta_car_passenger_asc = Beta(\"beta_car_passenger_asc\", 0, None, None, 0)\n",
    "beta_car_passenger_in_vehicle_time_min = Beta(\"beta_car_passenger_in_vehicle_time_min\", 0, None, None, 0)\n",
    "beta_car_passenger_walk_time_min = Beta(\"beta_car_passenger_walk_time_min\", 0, None, None, 0)\n",
    "beta_car_passenger_parking_pressure = Beta(\"beta_car_passenger_parking_pressure\", 0, None, None, 0)\n",
    "beta_car_passenger_driving_permit = Beta(\"beta_car_passenger_driving_permit\", 0, None, None, 0)\n",
    "\n",
    "if \"motorbike\" in modes:\n",
    "    beta_motorbike_asc = Beta(\"beta_motorbike_asc\", 0, None, None, 0)\n",
    "    beta_motorbike_in_vehicle_time_min = Beta(\"beta_motorbike_in_vehicle_time_min\", 0, None, None, 0)\n",
    "    beta_motorbike_walk_time_min = Beta(\"beta_motorbike_walk_time_min\", 0, None, None, 0)\n",
    "\n",
    "beta_transit_asc = Beta(\"beta_transit_asc\", 0, None, None, 1)\n",
    "beta_transit_total_walk_time_min = Beta(\"beta_transit_total_walk_time_min\", 0, None, None, 0)\n",
    "beta_transit_headway_min = Beta(\"beta_transit_headway_min\", 0, None, None, 0)\n",
    "beta_transit_total_in_vehicle_time_min = Beta(\"beta_transit_in_vehicle_time_total_min\", 0, None, None, 0)\n",
    "beta_transit_transfers = Beta(\"beta_transit_transfers\", 0, None, None, 0)\n",
    "beta_transit_waiting_time_min = Beta(\"beta_transit_waiting_time_min\", 0, None, None, 0)\n",
    "beta_transit_in_vehicle_time_bus_min = Beta(\"beta_transit_in_vehicle_time_bus_min\", 0, None, None, 0)\n",
    "beta_transit_only_bus = Beta(\"beta_transit_only_bus\", 0, None, None, 0)\n",
    "beta_transit_driving_permit = Beta(\"beta_transit_driving_permit\", 0, None, None, 0)\n",
    "\n",
    "beta_bicycle_asc = Beta(\"beta_bicycle_asc\", 0, None, None, 0)\n",
    "beta_bicycle_travel_time_min = Beta(\"beta_bicycle_travel_time_min\", 0, None, None, 0)\n",
    "\n",
    "beta_walk_asc = Beta(\"beta_walk_asc\", 0, None, None, 0)\n",
    "beta_walk_travel_time_min = Beta(\"beta_walk_travel_time_min\", 0, None, None, 0)\n",
    "\n",
    "beta_access_time_min = Beta(\"beta_access_time_min\", 0, None, None, 0)\n",
    "beta_car_walk_time_min = beta_access_time_min\n",
    "beta_car_passenger_walk_time_min =  beta_access_time_min\n",
    "beta_motorbike_walk_time_min = beta_access_time_min\n",
    "beta_transit_total_walk_time_min =  beta_access_time_min"
   ]
  },
  {
   "cell_type": "code",
   "execution_count": 7,
   "metadata": {},
   "outputs": [],
   "source": [
    "# Utility functions\n",
    "\n",
    "mean_euclidean_distance_km = 4.4\n",
    "euclidean_interaction_cost = (euclidean_distance_km / mean_euclidean_distance_km)**lambda_cost_distance\n",
    "# euclidean_interaction_cost = 1\n",
    "\n",
    "if \"income_per_person_EUR\" in df:\n",
    "    mean_income_EUR = 2900\n",
    "    income_interaction_cost = (income_per_person_EUR / mean_income_EUR)**lambda_cost_income\n",
    "else:\n",
    "    income_interaction_cost = 1\n",
    "\n",
    "car_utility = beta_car_asc\n",
    "car_utility += beta_car_in_vehicle_time_min * car_in_vehicle_time_min\n",
    "car_utility += beta_cost_EUR * (car_cost_EUR + parking_cost_EUR) * euclidean_interaction_cost * income_interaction_cost\n",
    "# car_utility += beta_car_parking_pressure * parking_pressure\n",
    "car_utility += beta_car_walk_time_min * car_walk_time_min\n",
    "\n",
    "car_passenger_utility = beta_car_passenger_asc\n",
    "car_passenger_utility += beta_car_passenger_in_vehicle_time_min * car_passenger_in_vehicle_time_min\n",
    "#car_passenger_utility += beta_car_passenger_parking_pressure * parking_pressure\n",
    "car_passenger_utility += beta_car_passenger_driving_permit * person_has_driving_permit\n",
    "car_passenger_utility += beta_car_passenger_walk_time_min * car_passenger_walk_time_min\n",
    "\n",
    "if \"motorbike\" in modes:\n",
    "    motorbike_utility = beta_motorbike_asc\n",
    "    motorbike_utility += beta_motorbike_in_vehicle_time_min * motorbike_in_vehicle_time_min\n",
    "    motorbike_utility += beta_cost_EUR * motorbike_cost_EUR * euclidean_interaction_cost * income_interaction_cost\n",
    "    motorbike_utility += beta_motorbike_walk_time_min * motorbike_walk_time_min\n",
    "\n",
    "transit_utility = beta_transit_asc\n",
    "transit_utility += beta_transit_total_walk_time_min * transit_total_walk_time_min\n",
    "transit_utility += beta_transit_transfers * transit_transfers\n",
    "transit_utility += beta_transit_waiting_time_min * (transit_transfer_wait_time_min + transit_initial_wait_time_min)\n",
    "transit_utility += beta_cost_EUR * transit_cost_EUR * euclidean_interaction_cost * income_interaction_cost\n",
    "transit_utility += beta_transit_total_in_vehicle_time_min * transit_total_in_vehicle_time_min\n",
    "transit_utility += beta_transit_only_bus * transit_only_bus\n",
    "transit_utility += beta_transit_driving_permit * person_has_driving_permit\n",
    "\n",
    "bicycle_utility = beta_bicycle_asc\n",
    "bicycle_utility += beta_bicycle_travel_time_min * bicycle_travel_time_min\n",
    "\n",
    "walk_utility = beta_walk_asc\n",
    "walk_utility += beta_walk_travel_time_min * walk_travel_time_min"
   ]
  },
  {
   "cell_type": "code",
   "execution_count": 8,
   "metadata": {},
   "outputs": [],
   "source": [
    "# Mapping\n",
    "utilities = { \n",
    "    modes.index(\"car\"): car_utility,\n",
    "    modes.index(\"car_passenger\"): car_passenger_utility,\n",
    "    modes.index(\"transit\"): transit_utility,\n",
    "    modes.index(\"bicycle\"): bicycle_utility,\n",
    "    modes.index(\"walk\"): walk_utility\n",
    "}\n",
    "\n",
    "if \"motorbike\" in modes:\n",
    "    utilities[modes.index(\"motorbike\")] = motorbike_utility\n",
    "\n",
    "availability = { \n",
    "    modes.index(\"car\"): car_availability,\n",
    "    modes.index(\"car_passenger\"): car_passenger_availability,\n",
    "    modes.index(\"transit\"): transit_availability,\n",
    "    modes.index(\"bicycle\"): bicycle_availability,\n",
    "    modes.index(\"walk\"): walk_availability\n",
    "}\n",
    "\n",
    "if \"motorbike\" in modes:\n",
    "    availability[modes.index(\"motorbike\")] = motorbike_availability"
   ]
  },
  {
   "cell_type": "code",
   "execution_count": 9,
   "metadata": {},
   "outputs": [
    {
     "name": "stderr",
     "output_type": "stream",
     "text": [
      "You have not defined a name for the model. The output .py are named from the model name. The default is [biogemeModelDefaultName]\n"
     ]
    }
   ],
   "source": [
    "model = models.loglogit(utilities, availability, mode)\n",
    "\n",
    "biogeme = bio.BIOGEME(database, {\n",
    "    \"loglike\": model, \"weight\": weight\n",
    "})\n",
    "\n",
    "biogeme.calculate_null_loglikelihood(availability)\n",
    "\n",
    "biogeme.generateHtml = True\n",
    "biogeme.generate_pickle = False\n",
    "\n",
    "result = biogeme.estimate()"
   ]
  },
  {
   "cell_type": "code",
   "execution_count": 10,
   "metadata": {},
   "outputs": [
    {
     "name": "stdout",
     "output_type": "stream",
     "text": [
      "Results for model biogemeModelDefaultName\n",
      "Nbr of parameters:\t\t17\n",
      "Sample size:\t\t\t114487\n",
      "Excluded data:\t\t\t0\n",
      "Null log likelihood:\t\t-128479.7\n",
      "Final log likelihood:\t\t-61689.15\n",
      "Likelihood ratio test (null):\t\t133581.2\n",
      "Rho square (null):\t\t\t0.52\n",
      "Rho bar square (null):\t\t\t0.52\n",
      "Akaike Information Criterion:\t123412.3\n",
      "Bayesian Information Criterion:\t123576.3\n",
      "\n"
     ]
    }
   ],
   "source": [
    "print(result.short_summary())"
   ]
  },
  {
   "cell_type": "code",
   "execution_count": 11,
   "metadata": {},
   "outputs": [
    {
     "data": {
      "text/html": [
       "<div>\n",
       "<style scoped>\n",
       "    .dataframe tbody tr th:only-of-type {\n",
       "        vertical-align: middle;\n",
       "    }\n",
       "\n",
       "    .dataframe tbody tr th {\n",
       "        vertical-align: top;\n",
       "    }\n",
       "\n",
       "    .dataframe thead th {\n",
       "        text-align: right;\n",
       "    }\n",
       "</style>\n",
       "<table border=\"1\" class=\"dataframe\">\n",
       "  <thead>\n",
       "    <tr style=\"text-align: right;\">\n",
       "      <th></th>\n",
       "      <th>Value</th>\n",
       "      <th>Rob. Std err</th>\n",
       "      <th>Rob. t-test</th>\n",
       "      <th>Rob. p-value</th>\n",
       "    </tr>\n",
       "  </thead>\n",
       "  <tbody>\n",
       "    <tr>\n",
       "      <th>beta_access_time_min</th>\n",
       "      <td>-0.031203</td>\n",
       "      <td>0.001735</td>\n",
       "      <td>-17.988359</td>\n",
       "      <td>0.000000e+00</td>\n",
       "    </tr>\n",
       "    <tr>\n",
       "      <th>beta_bicycle_asc</th>\n",
       "      <td>-2.923113</td>\n",
       "      <td>0.065128</td>\n",
       "      <td>-44.882338</td>\n",
       "      <td>0.000000e+00</td>\n",
       "    </tr>\n",
       "    <tr>\n",
       "      <th>beta_bicycle_travel_time_min</th>\n",
       "      <td>-0.093555</td>\n",
       "      <td>0.003985</td>\n",
       "      <td>-23.477408</td>\n",
       "      <td>0.000000e+00</td>\n",
       "    </tr>\n",
       "    <tr>\n",
       "      <th>beta_car_asc</th>\n",
       "      <td>-0.197903</td>\n",
       "      <td>0.045327</td>\n",
       "      <td>-4.366094</td>\n",
       "      <td>1.264882e-05</td>\n",
       "    </tr>\n",
       "    <tr>\n",
       "      <th>beta_car_in_vehicle_time_min</th>\n",
       "      <td>-0.042451</td>\n",
       "      <td>0.002450</td>\n",
       "      <td>-17.325378</td>\n",
       "      <td>0.000000e+00</td>\n",
       "    </tr>\n",
       "    <tr>\n",
       "      <th>beta_car_passenger_asc</th>\n",
       "      <td>-1.711346</td>\n",
       "      <td>0.028403</td>\n",
       "      <td>-60.251747</td>\n",
       "      <td>0.000000e+00</td>\n",
       "    </tr>\n",
       "    <tr>\n",
       "      <th>beta_car_passenger_driving_permit</th>\n",
       "      <td>-0.833687</td>\n",
       "      <td>0.028403</td>\n",
       "      <td>-29.351811</td>\n",
       "      <td>0.000000e+00</td>\n",
       "    </tr>\n",
       "    <tr>\n",
       "      <th>beta_car_passenger_in_vehicle_time_min</th>\n",
       "      <td>-0.070003</td>\n",
       "      <td>0.001914</td>\n",
       "      <td>-36.574734</td>\n",
       "      <td>0.000000e+00</td>\n",
       "    </tr>\n",
       "    <tr>\n",
       "      <th>beta_cost_EUR</th>\n",
       "      <td>-0.311059</td>\n",
       "      <td>0.022975</td>\n",
       "      <td>-13.538747</td>\n",
       "      <td>0.000000e+00</td>\n",
       "    </tr>\n",
       "    <tr>\n",
       "      <th>beta_transit_driving_permit</th>\n",
       "      <td>-0.529718</td>\n",
       "      <td>0.034508</td>\n",
       "      <td>-15.350568</td>\n",
       "      <td>0.000000e+00</td>\n",
       "    </tr>\n",
       "    <tr>\n",
       "      <th>beta_transit_in_vehicle_time_total_min</th>\n",
       "      <td>-0.025600</td>\n",
       "      <td>0.001390</td>\n",
       "      <td>-18.412993</td>\n",
       "      <td>0.000000e+00</td>\n",
       "    </tr>\n",
       "    <tr>\n",
       "      <th>beta_transit_only_bus</th>\n",
       "      <td>-1.412209</td>\n",
       "      <td>0.032020</td>\n",
       "      <td>-44.104540</td>\n",
       "      <td>0.000000e+00</td>\n",
       "    </tr>\n",
       "    <tr>\n",
       "      <th>beta_transit_transfers</th>\n",
       "      <td>-0.414422</td>\n",
       "      <td>0.024836</td>\n",
       "      <td>-16.686480</td>\n",
       "      <td>0.000000e+00</td>\n",
       "    </tr>\n",
       "    <tr>\n",
       "      <th>beta_transit_waiting_time_min</th>\n",
       "      <td>-0.021842</td>\n",
       "      <td>0.002193</td>\n",
       "      <td>-9.959064</td>\n",
       "      <td>0.000000e+00</td>\n",
       "    </tr>\n",
       "    <tr>\n",
       "      <th>beta_walk_asc</th>\n",
       "      <td>1.688110</td>\n",
       "      <td>0.054984</td>\n",
       "      <td>30.701798</td>\n",
       "      <td>0.000000e+00</td>\n",
       "    </tr>\n",
       "    <tr>\n",
       "      <th>beta_walk_travel_time_min</th>\n",
       "      <td>-0.162261</td>\n",
       "      <td>0.001747</td>\n",
       "      <td>-92.876265</td>\n",
       "      <td>0.000000e+00</td>\n",
       "    </tr>\n",
       "    <tr>\n",
       "      <th>lambda_cost_distance</th>\n",
       "      <td>-0.257621</td>\n",
       "      <td>0.032404</td>\n",
       "      <td>-7.950219</td>\n",
       "      <td>1.776357e-15</td>\n",
       "    </tr>\n",
       "  </tbody>\n",
       "</table>\n",
       "</div>"
      ],
      "text/plain": [
       "                                           Value  Rob. Std err  Rob. t-test  \\\n",
       "beta_access_time_min                   -0.031203      0.001735   -17.988359   \n",
       "beta_bicycle_asc                       -2.923113      0.065128   -44.882338   \n",
       "beta_bicycle_travel_time_min           -0.093555      0.003985   -23.477408   \n",
       "beta_car_asc                           -0.197903      0.045327    -4.366094   \n",
       "beta_car_in_vehicle_time_min           -0.042451      0.002450   -17.325378   \n",
       "beta_car_passenger_asc                 -1.711346      0.028403   -60.251747   \n",
       "beta_car_passenger_driving_permit      -0.833687      0.028403   -29.351811   \n",
       "beta_car_passenger_in_vehicle_time_min -0.070003      0.001914   -36.574734   \n",
       "beta_cost_EUR                          -0.311059      0.022975   -13.538747   \n",
       "beta_transit_driving_permit            -0.529718      0.034508   -15.350568   \n",
       "beta_transit_in_vehicle_time_total_min -0.025600      0.001390   -18.412993   \n",
       "beta_transit_only_bus                  -1.412209      0.032020   -44.104540   \n",
       "beta_transit_transfers                 -0.414422      0.024836   -16.686480   \n",
       "beta_transit_waiting_time_min          -0.021842      0.002193    -9.959064   \n",
       "beta_walk_asc                           1.688110      0.054984    30.701798   \n",
       "beta_walk_travel_time_min              -0.162261      0.001747   -92.876265   \n",
       "lambda_cost_distance                   -0.257621      0.032404    -7.950219   \n",
       "\n",
       "                                        Rob. p-value  \n",
       "beta_access_time_min                    0.000000e+00  \n",
       "beta_bicycle_asc                        0.000000e+00  \n",
       "beta_bicycle_travel_time_min            0.000000e+00  \n",
       "beta_car_asc                            1.264882e-05  \n",
       "beta_car_in_vehicle_time_min            0.000000e+00  \n",
       "beta_car_passenger_asc                  0.000000e+00  \n",
       "beta_car_passenger_driving_permit       0.000000e+00  \n",
       "beta_car_passenger_in_vehicle_time_min  0.000000e+00  \n",
       "beta_cost_EUR                           0.000000e+00  \n",
       "beta_transit_driving_permit             0.000000e+00  \n",
       "beta_transit_in_vehicle_time_total_min  0.000000e+00  \n",
       "beta_transit_only_bus                   0.000000e+00  \n",
       "beta_transit_transfers                  0.000000e+00  \n",
       "beta_transit_waiting_time_min           0.000000e+00  \n",
       "beta_walk_asc                           0.000000e+00  \n",
       "beta_walk_travel_time_min               0.000000e+00  \n",
       "lambda_cost_distance                    1.776357e-15  "
      ]
     },
     "execution_count": 11,
     "metadata": {},
     "output_type": "execute_result"
    }
   ],
   "source": [
    "result.get_estimated_parameters()"
   ]
  },
  {
   "cell_type": "code",
   "execution_count": 12,
   "metadata": {},
   "outputs": [],
   "source": [
    "parameters = {\n",
    "    index: row[\"Value\"]\n",
    "    for index, row in result.get_estimated_parameters().iterrows()\n",
    "}"
   ]
  },
  {
   "cell_type": "code",
   "execution_count": 13,
   "metadata": {},
   "outputs": [
    {
     "name": "stdout",
     "output_type": "stream",
     "text": [
      "Car VOT 8.188422345612176 EUR/h\n",
      "Transit IV VOT 4.937947342857951 EUR/h\n",
      "Walk VOT 31.298476611626324 EUR/h\n",
      "Bicycle VOT 18.04581941491727 EUR/h\n",
      "Car passenger VOT 13.502785682035551 EUR/h\n"
     ]
    }
   ],
   "source": [
    "print(\"Car VOT\", 60 * parameters[\"beta_car_in_vehicle_time_min\"] / parameters[\"beta_cost_EUR\"], \"EUR/h\")\n",
    "print(\"Transit IV VOT\", 60 * parameters[\"beta_transit_in_vehicle_time_total_min\"] / parameters[\"beta_cost_EUR\"], \"EUR/h\")\n",
    "print(\"Walk VOT\", 60 * parameters[\"beta_walk_travel_time_min\"] / parameters[\"beta_cost_EUR\"], \"EUR/h\")\n",
    "print(\"Bicycle VOT\", 60 * parameters[\"beta_bicycle_travel_time_min\"] / parameters[\"beta_cost_EUR\"], \"EUR/h\")\n",
    "print(\"Car passenger VOT\", 60 * parameters[\"beta_car_passenger_in_vehicle_time_min\"] / parameters[\"beta_cost_EUR\"], \"EUR/h\")\n",
    "\n",
    "if \"motorbike\" in modes:\n",
    "    print(\"Motorbike VOT\", 60 * parameters[\"beta_motorbike_in_vehicle_time_min\"] / parameters[\"beta_cost_EUR\"], \"EUR/h\")"
   ]
  },
  {
   "cell_type": "code",
   "execution_count": 14,
   "metadata": {},
   "outputs": [
    {
     "name": "stderr",
     "output_type": "stream",
     "text": [
      "The chosen alternative [`0.0`] is not available for the following observations (rownumber[choice]): 10[0.0]-11[0.0]-12[0.0]-13[0.0]-14[0.0]-15[0.0]-16[0.0]-17[0.0]-18[0.0]-19[0.0]-20[0.0]-21[0.0]-22[0...\n",
      "The chosen alternative [`1.0`] is not available for the following observations (rownumber[choice]): 10[1.0]-11[1.0]-12[1.0]-13[1.0]-14[1.0]-15[1.0]-16[1.0]-17[1.0]-18[1.0]-19[1.0]-20[1.0]-21[1.0]-22[1...\n",
      "The chosen alternative [`2.0`] is not available for the following observations (rownumber[choice]): 3[2.0]-9[2.0]-19[2.0]-20[2.0]-24[2.0]-28[2.0]-30[2.0]-31[2.0]-51[2.0]-52[2.0]-72[2.0]-73[2.0]-78[2.0...\n",
      "The chosen alternative [`3.0`] is not available for the following observations (rownumber[choice]): 0[3.0]-1[3.0]-2[3.0]-3[3.0]-4[3.0]-5[3.0]-6[3.0]-7[3.0]-8[3.0]-9[3.0]-10[3.0]-11[3.0]-12[3.0]-13[3.0...\n",
      "The chosen alternative [`4.0`] is not available for the following observations (rownumber[choice]): 8[4.0]-9[4.0]-75[4.0]-76[4.0]-77[4.0]-116[4.0]-117[4.0]-131[4.0]-132[4.0]-135[4.0]-136[4.0]-166[4.0]...\n",
      "The chosen alternative [`0.0`] is not available for the following observations (rownumber[choice]): 10[0.0]-11[0.0]-12[0.0]-13[0.0]-14[0.0]-15[0.0]-16[0.0]-17[0.0]-18[0.0]-19[0.0]-20[0.0]-21[0.0]-22[0...\n",
      "The chosen alternative [`1.0`] is not available for the following observations (rownumber[choice]): 10[1.0]-11[1.0]-12[1.0]-13[1.0]-14[1.0]-15[1.0]-16[1.0]-17[1.0]-18[1.0]-19[1.0]-20[1.0]-21[1.0]-22[1...\n",
      "The chosen alternative [`2.0`] is not available for the following observations (rownumber[choice]): 3[2.0]-9[2.0]-19[2.0]-20[2.0]-24[2.0]-28[2.0]-30[2.0]-31[2.0]-51[2.0]-52[2.0]-72[2.0]-73[2.0]-78[2.0...\n",
      "The chosen alternative [`3.0`] is not available for the following observations (rownumber[choice]): 0[3.0]-1[3.0]-2[3.0]-3[3.0]-4[3.0]-5[3.0]-6[3.0]-7[3.0]-8[3.0]-9[3.0]-10[3.0]-11[3.0]-12[3.0]-13[3.0...\n",
      "The chosen alternative [`4.0`] is not available for the following observations (rownumber[choice]): 8[4.0]-9[4.0]-75[4.0]-76[4.0]-77[4.0]-116[4.0]-117[4.0]-131[4.0]-132[4.0]-135[4.0]-136[4.0]-166[4.0]...\n"
     ]
    }
   ],
   "source": [
    "probabilities = {\n",
    "    \"prob_{}\".format(mode): models.logit(utilities, availability, modes.index(mode))\n",
    "    for mode in modes\n",
    "}\n",
    "\n",
    "simulator = bio.BIOGEME(database, probabilities)\n",
    "simulation_result = simulator.simulate(result.get_beta_values())"
   ]
  },
  {
   "cell_type": "code",
   "execution_count": 15,
   "metadata": {},
   "outputs": [],
   "source": [
    "df_simulation = pd.concat([df, simulation_result], axis = 1).copy()\n",
    "df_simulation[\"simulated_mode\"] = df_simulation[[\"prob_{}\".format(m) for m in modes]].apply(\n",
    "    lambda x: np.random.choice(modes, p = x.values), axis = 1\n",
    ")\n",
    "\n",
    "distance_bounds = np.array([  100.,   140.,   220.,   300.,   360.,   450.,   580.,   730.,\n",
    "         940.,  1220.,  1620.,  2120.,  2820.,  3710.,  4850.,  6410.,\n",
    "        8640., 12150., 17830., 39990.])\n",
    "\n",
    "df_simulation[\"euclidean_distance\"] = df_simulation[\"euclidean_distance_km\"] * 1e3\n",
    "df_simulation[\"distance_class\"] = distance_bounds[np.digitize(df_simulation[\"euclidean_distance\"], distance_bounds[:-1])]\n",
    "\n",
    "df_share = df_simulation.groupby([\"distance_class\", \"simulated_mode\"])[\"weight\"].sum().reset_index()\n",
    "df_total = df_share.groupby(\"distance_class\")[\"weight\"].sum().reset_index(name = \"total\")\n",
    "df_share = pd.merge(df_share, df_total, on = \"distance_class\")\n",
    "df_share[\"share\"] = df_share[\"weight\"] / df_share[\"total\"]\n",
    "df_share = df_share.rename(columns = { \"simulated_mode\": \"mode\" })\n",
    "df_share[\"source\"] = \"model\"\n",
    "\n",
    "df_reference = df_simulation.groupby([\"distance_class\", \"mode\"])[\"weight\"].sum().reset_index()\n",
    "df_total = df_reference.groupby(\"distance_class\")[\"weight\"].sum().reset_index(name = \"total\")\n",
    "df_reference = pd.merge(df_reference, df_total, on = \"distance_class\")\n",
    "df_reference[\"share\"] = df_reference[\"weight\"] / df_reference[\"total\"]\n",
    "df_reference[\"mode\"] = df_reference[\"mode\"].apply(lambda x: modes[x])\n",
    "df_reference[\"source\"] = \"reference\"\n",
    "\n",
    "df_comparison = pd.concat([df_share, df_reference])"
   ]
  },
  {
   "cell_type": "code",
   "execution_count": 16,
   "metadata": {},
   "outputs": [
    {
     "data": {
      "application/vnd.plotly.v1+json": {
       "config": {
        "plotlyServerURL": "https://plot.ly"
       },
       "data": [
        {
         "hovertemplate": "mode=bicycle<br>source=model<br>distance_class=%{x}<br>share=%{y}<extra></extra>",
         "legendgroup": "bicycle, model",
         "line": {
          "color": "#636efa",
          "dash": "solid"
         },
         "marker": {
          "symbol": "circle"
         },
         "mode": "lines",
         "name": "bicycle, model",
         "orientation": "v",
         "showlegend": true,
         "type": "scatter",
         "x": [
          100,
          140,
          220,
          300,
          360,
          450,
          580,
          730,
          940,
          1220,
          1620,
          2120,
          2820,
          3710,
          4850,
          6410,
          8640,
          12150,
          17830,
          39990
         ],
         "xaxis": "x",
         "y": [
          0.0040402661790769736,
          0.0049105182649936616,
          0.0066067976066565585,
          0.008354754939977489,
          0.007105581013759535,
          0.013285856285543348,
          0.015661096014542377,
          0.020596174422338742,
          0.024759321964176115,
          0.030718570710225986,
          0.03636842937284676,
          0.04498710086653178,
          0.03502212232422825,
          0.03548925684905501,
          0.019483164696879048,
          0.01227947631511944,
          0.006382030220188395,
          0.004318111128858026,
          0.0014464319714310584,
          0.000049226603700906464
         ],
         "yaxis": "y"
        },
        {
         "hovertemplate": "mode=bicycle<br>source=reference<br>distance_class=%{x}<br>share=%{y}<extra></extra>",
         "legendgroup": "bicycle, reference",
         "line": {
          "color": "#636efa",
          "dash": "dot"
         },
         "marker": {
          "symbol": "circle"
         },
         "mode": "lines",
         "name": "bicycle, reference",
         "orientation": "v",
         "showlegend": true,
         "type": "scatter",
         "x": [
          100,
          140,
          220,
          300,
          360,
          450,
          580,
          730,
          940,
          1220,
          1620,
          2120,
          2820,
          3710,
          4850,
          6410,
          8640,
          12150,
          17830,
          39990
         ],
         "xaxis": "x",
         "y": [
          0.004511358169496878,
          0.003553088406768678,
          0.008522907730485703,
          0.006994924133971291,
          0.007858849196714889,
          0.011986932215365646,
          0.021171720621233358,
          0.020267571692215634,
          0.03630965581351781,
          0.03219309633188525,
          0.03193315263832754,
          0.03879670637391903,
          0.025628485538782633,
          0.018515765176757144,
          0.021371593571768797,
          0.012382396334196698,
          0.00458708971942332,
          0.0044016975961998685,
          0.001433750360460786,
          0.000941958687433772
         ],
         "yaxis": "y"
        },
        {
         "hovertemplate": "mode=car<br>source=model<br>distance_class=%{x}<br>share=%{y}<extra></extra>",
         "legendgroup": "car, model",
         "line": {
          "color": "#EF553B",
          "dash": "solid"
         },
         "marker": {
          "symbol": "circle"
         },
         "mode": "lines",
         "name": "car, model",
         "orientation": "v",
         "showlegend": true,
         "type": "scatter",
         "x": [
          100,
          140,
          220,
          300,
          360,
          450,
          580,
          730,
          940,
          1220,
          1620,
          2120,
          2820,
          3710,
          4850,
          6410,
          8640,
          12150,
          17830,
          39990
         ],
         "xaxis": "x",
         "y": [
          0.0708504033012784,
          0.06138451752141287,
          0.0726848172340677,
          0.07807540173781881,
          0.10599925321117087,
          0.1191158364227686,
          0.144168657463731,
          0.2081554998572156,
          0.270400208445432,
          0.34691762319233477,
          0.4307208422378335,
          0.5167876371718596,
          0.5192801165931968,
          0.5331181772859153,
          0.5232593428488801,
          0.5038169941159859,
          0.5111173467798689,
          0.5347724635544636,
          0.5164198182875983,
          0.467350544252755
         ],
         "yaxis": "y"
        },
        {
         "hovertemplate": "mode=car<br>source=reference<br>distance_class=%{x}<br>share=%{y}<extra></extra>",
         "legendgroup": "car, reference",
         "line": {
          "color": "#EF553B",
          "dash": "dot"
         },
         "marker": {
          "symbol": "circle"
         },
         "mode": "lines",
         "name": "car, reference",
         "orientation": "v",
         "showlegend": true,
         "type": "scatter",
         "x": [
          100,
          140,
          220,
          300,
          360,
          450,
          580,
          730,
          940,
          1220,
          1620,
          2120,
          2820,
          3710,
          4850,
          6410,
          8640,
          12150,
          17830,
          39990
         ],
         "xaxis": "x",
         "y": [
          0.02504036905552898,
          0.024204671292592402,
          0.04416280414013497,
          0.06962565740634713,
          0.09363068496559866,
          0.1384238009753155,
          0.1798058827432632,
          0.25291159261287716,
          0.3207166730429295,
          0.4111849594003242,
          0.45011051092365145,
          0.5029444787905369,
          0.5027164147358116,
          0.5166773047598977,
          0.47785349023243645,
          0.480202501183769,
          0.4930011872118748,
          0.5184892453372044,
          0.4976381963191159,
          0.4817978421241049
         ],
         "yaxis": "y"
        },
        {
         "hovertemplate": "mode=car_passenger<br>source=model<br>distance_class=%{x}<br>share=%{y}<extra></extra>",
         "legendgroup": "car_passenger, model",
         "line": {
          "color": "#00cc96",
          "dash": "solid"
         },
         "marker": {
          "symbol": "circle"
         },
         "mode": "lines",
         "name": "car_passenger, model",
         "orientation": "v",
         "showlegend": true,
         "type": "scatter",
         "x": [
          100,
          140,
          220,
          300,
          360,
          450,
          580,
          730,
          940,
          1220,
          1620,
          2120,
          2820,
          3710,
          4850,
          6410,
          8640,
          12150,
          17830,
          39990
         ],
         "xaxis": "x",
         "y": [
          0.012270122206638876,
          0.005315528075375138,
          0.0075432695725282045,
          0.008099777592184257,
          0.011503540219908948,
          0.013064685066090464,
          0.017722967002407216,
          0.019701380628031312,
          0.025178336280167864,
          0.035303371398171864,
          0.04518988803957124,
          0.05472390947589961,
          0.050525842909392646,
          0.056974103818008354,
          0.044695516000182234,
          0.046925114121556685,
          0.04358356944258482,
          0.042447004075849504,
          0.042710141014476774,
          0.04075664095270379
         ],
         "yaxis": "y"
        },
        {
         "hovertemplate": "mode=car_passenger<br>source=reference<br>distance_class=%{x}<br>share=%{y}<extra></extra>",
         "legendgroup": "car_passenger, reference",
         "line": {
          "color": "#00cc96",
          "dash": "dot"
         },
         "marker": {
          "symbol": "circle"
         },
         "mode": "lines",
         "name": "car_passenger, reference",
         "orientation": "v",
         "showlegend": true,
         "type": "scatter",
         "x": [
          100,
          140,
          220,
          300,
          360,
          450,
          580,
          730,
          940,
          1220,
          1620,
          2120,
          2820,
          3710,
          4850,
          6410,
          8640,
          12150,
          17830,
          39990
         ],
         "xaxis": "x",
         "y": [
          0.0029716903880282236,
          0.0026365034620208804,
          0.0031997742299231077,
          0.0038878211727162997,
          0.0071926165352228875,
          0.010633710637806484,
          0.0177296388144082,
          0.02701711890090107,
          0.031659747928532045,
          0.041788421223721464,
          0.04886949931286004,
          0.051424129369617204,
          0.04565510033607561,
          0.05117215758579257,
          0.05445274347537398,
          0.05455443152538763,
          0.0526481226960247,
          0.045310003887895835,
          0.04103982292566996,
          0.03938945797624993
         ],
         "yaxis": "y"
        },
        {
         "hovertemplate": "mode=walk<br>source=model<br>distance_class=%{x}<br>share=%{y}<extra></extra>",
         "legendgroup": "walk, model",
         "line": {
          "color": "#ab63fa",
          "dash": "solid"
         },
         "marker": {
          "symbol": "circle"
         },
         "mode": "lines",
         "name": "walk, model",
         "orientation": "v",
         "showlegend": true,
         "type": "scatter",
         "x": [
          100,
          140,
          220,
          300,
          360,
          450,
          580,
          730,
          940,
          1220,
          1620,
          2120,
          2820,
          3710,
          4850,
          6410
         ],
         "xaxis": "x",
         "y": [
          0.9128392083130057,
          0.9283894361382183,
          0.9130388495345577,
          0.902923004797416,
          0.8660334357259013,
          0.8371863734104894,
          0.784447889873646,
          0.6825971217893559,
          0.587559056410025,
          0.43773328597626154,
          0.26390544497051793,
          0.10231321401897873,
          0.024292383273497076,
          0.003911457946250706,
          0.00046306137736309153,
          0.000054098230059742696
         ],
         "yaxis": "y"
        },
        {
         "hovertemplate": "mode=walk<br>source=reference<br>distance_class=%{x}<br>share=%{y}<extra></extra>",
         "legendgroup": "walk, reference",
         "line": {
          "color": "#ab63fa",
          "dash": "dot"
         },
         "marker": {
          "symbol": "circle"
         },
         "mode": "lines",
         "name": "walk, reference",
         "orientation": "v",
         "showlegend": true,
         "type": "scatter",
         "x": [
          100,
          140,
          220,
          300,
          360,
          450,
          580,
          730,
          940,
          1220,
          1620,
          2120,
          2820,
          3710,
          4850,
          6410,
          8640
         ],
         "xaxis": "x",
         "y": [
          0.9674765823869459,
          0.9696057368386181,
          0.9441145138994562,
          0.9191062611108523,
          0.8911291780044852,
          0.8346276181223206,
          0.7670750727823584,
          0.6627425924409185,
          0.5334387456733949,
          0.37433720381361957,
          0.2305784214177445,
          0.10441159683903778,
          0.04952712142860607,
          0.028235376848925048,
          0.008515800462051776,
          0.001958022301334351,
          0.0002114805410082355
         ],
         "yaxis": "y"
        },
        {
         "hovertemplate": "mode=transit<br>source=model<br>distance_class=%{x}<br>share=%{y}<extra></extra>",
         "legendgroup": "transit, model",
         "line": {
          "color": "#FFA15A",
          "dash": "solid"
         },
         "marker": {
          "symbol": "circle"
         },
         "mode": "lines",
         "name": "transit, model",
         "orientation": "v",
         "showlegend": true,
         "type": "scatter",
         "x": [
          220,
          300,
          360,
          450,
          580,
          730,
          940,
          1220,
          1620,
          2120,
          2820,
          3710,
          4850,
          6410,
          8640,
          12150,
          17830,
          39990
         ],
         "xaxis": "x",
         "y": [
          0.0001262660521898484,
          0.0025470609326034774,
          0.009358189829259256,
          0.017347248815108136,
          0.03799938964567347,
          0.06894982330305835,
          0.09210307690019888,
          0.14932714872300573,
          0.22381539537923054,
          0.28118813846673024,
          0.3708795348996852,
          0.3705070041007706,
          0.41209891507669555,
          0.4369243172172782,
          0.438917053557358,
          0.41846242124082883,
          0.4394236087264938,
          0.49184358819084034
         ],
         "yaxis": "y"
        },
        {
         "hovertemplate": "mode=transit<br>source=reference<br>distance_class=%{x}<br>share=%{y}<extra></extra>",
         "legendgroup": "transit, reference",
         "line": {
          "color": "#FFA15A",
          "dash": "dot"
         },
         "marker": {
          "symbol": "circle"
         },
         "mode": "lines",
         "name": "transit, reference",
         "orientation": "v",
         "showlegend": true,
         "type": "scatter",
         "x": [
          300,
          360,
          450,
          580,
          730,
          940,
          1220,
          1620,
          2120,
          2820,
          3710,
          4850,
          6410,
          8640,
          12150,
          17830,
          39990
         ],
         "xaxis": "x",
         "y": [
          0.0003853361761130101,
          0.00018867129797834546,
          0.004327938049191716,
          0.014217685038736806,
          0.03706112435308765,
          0.07787517754162576,
          0.14049631923044947,
          0.23850841570741638,
          0.30242308862688894,
          0.3764728779607241,
          0.3853993956286276,
          0.43780637225836905,
          0.4509026486553124,
          0.44955211983166893,
          0.43179905317869993,
          0.45988823039475335,
          0.4778707412122114
         ],
         "yaxis": "y"
        }
       ],
       "layout": {
        "legend": {
         "title": {
          "text": "mode, source"
         },
         "tracegroupgap": 0
        },
        "margin": {
         "t": 60
        },
        "template": {
         "data": {
          "bar": [
           {
            "error_x": {
             "color": "#2a3f5f"
            },
            "error_y": {
             "color": "#2a3f5f"
            },
            "marker": {
             "line": {
              "color": "#E5ECF6",
              "width": 0.5
             },
             "pattern": {
              "fillmode": "overlay",
              "size": 10,
              "solidity": 0.2
             }
            },
            "type": "bar"
           }
          ],
          "barpolar": [
           {
            "marker": {
             "line": {
              "color": "#E5ECF6",
              "width": 0.5
             },
             "pattern": {
              "fillmode": "overlay",
              "size": 10,
              "solidity": 0.2
             }
            },
            "type": "barpolar"
           }
          ],
          "carpet": [
           {
            "aaxis": {
             "endlinecolor": "#2a3f5f",
             "gridcolor": "white",
             "linecolor": "white",
             "minorgridcolor": "white",
             "startlinecolor": "#2a3f5f"
            },
            "baxis": {
             "endlinecolor": "#2a3f5f",
             "gridcolor": "white",
             "linecolor": "white",
             "minorgridcolor": "white",
             "startlinecolor": "#2a3f5f"
            },
            "type": "carpet"
           }
          ],
          "choropleth": [
           {
            "colorbar": {
             "outlinewidth": 0,
             "ticks": ""
            },
            "type": "choropleth"
           }
          ],
          "contour": [
           {
            "colorbar": {
             "outlinewidth": 0,
             "ticks": ""
            },
            "colorscale": [
             [
              0,
              "#0d0887"
             ],
             [
              0.1111111111111111,
              "#46039f"
             ],
             [
              0.2222222222222222,
              "#7201a8"
             ],
             [
              0.3333333333333333,
              "#9c179e"
             ],
             [
              0.4444444444444444,
              "#bd3786"
             ],
             [
              0.5555555555555556,
              "#d8576b"
             ],
             [
              0.6666666666666666,
              "#ed7953"
             ],
             [
              0.7777777777777778,
              "#fb9f3a"
             ],
             [
              0.8888888888888888,
              "#fdca26"
             ],
             [
              1,
              "#f0f921"
             ]
            ],
            "type": "contour"
           }
          ],
          "contourcarpet": [
           {
            "colorbar": {
             "outlinewidth": 0,
             "ticks": ""
            },
            "type": "contourcarpet"
           }
          ],
          "heatmap": [
           {
            "colorbar": {
             "outlinewidth": 0,
             "ticks": ""
            },
            "colorscale": [
             [
              0,
              "#0d0887"
             ],
             [
              0.1111111111111111,
              "#46039f"
             ],
             [
              0.2222222222222222,
              "#7201a8"
             ],
             [
              0.3333333333333333,
              "#9c179e"
             ],
             [
              0.4444444444444444,
              "#bd3786"
             ],
             [
              0.5555555555555556,
              "#d8576b"
             ],
             [
              0.6666666666666666,
              "#ed7953"
             ],
             [
              0.7777777777777778,
              "#fb9f3a"
             ],
             [
              0.8888888888888888,
              "#fdca26"
             ],
             [
              1,
              "#f0f921"
             ]
            ],
            "type": "heatmap"
           }
          ],
          "heatmapgl": [
           {
            "colorbar": {
             "outlinewidth": 0,
             "ticks": ""
            },
            "colorscale": [
             [
              0,
              "#0d0887"
             ],
             [
              0.1111111111111111,
              "#46039f"
             ],
             [
              0.2222222222222222,
              "#7201a8"
             ],
             [
              0.3333333333333333,
              "#9c179e"
             ],
             [
              0.4444444444444444,
              "#bd3786"
             ],
             [
              0.5555555555555556,
              "#d8576b"
             ],
             [
              0.6666666666666666,
              "#ed7953"
             ],
             [
              0.7777777777777778,
              "#fb9f3a"
             ],
             [
              0.8888888888888888,
              "#fdca26"
             ],
             [
              1,
              "#f0f921"
             ]
            ],
            "type": "heatmapgl"
           }
          ],
          "histogram": [
           {
            "marker": {
             "pattern": {
              "fillmode": "overlay",
              "size": 10,
              "solidity": 0.2
             }
            },
            "type": "histogram"
           }
          ],
          "histogram2d": [
           {
            "colorbar": {
             "outlinewidth": 0,
             "ticks": ""
            },
            "colorscale": [
             [
              0,
              "#0d0887"
             ],
             [
              0.1111111111111111,
              "#46039f"
             ],
             [
              0.2222222222222222,
              "#7201a8"
             ],
             [
              0.3333333333333333,
              "#9c179e"
             ],
             [
              0.4444444444444444,
              "#bd3786"
             ],
             [
              0.5555555555555556,
              "#d8576b"
             ],
             [
              0.6666666666666666,
              "#ed7953"
             ],
             [
              0.7777777777777778,
              "#fb9f3a"
             ],
             [
              0.8888888888888888,
              "#fdca26"
             ],
             [
              1,
              "#f0f921"
             ]
            ],
            "type": "histogram2d"
           }
          ],
          "histogram2dcontour": [
           {
            "colorbar": {
             "outlinewidth": 0,
             "ticks": ""
            },
            "colorscale": [
             [
              0,
              "#0d0887"
             ],
             [
              0.1111111111111111,
              "#46039f"
             ],
             [
              0.2222222222222222,
              "#7201a8"
             ],
             [
              0.3333333333333333,
              "#9c179e"
             ],
             [
              0.4444444444444444,
              "#bd3786"
             ],
             [
              0.5555555555555556,
              "#d8576b"
             ],
             [
              0.6666666666666666,
              "#ed7953"
             ],
             [
              0.7777777777777778,
              "#fb9f3a"
             ],
             [
              0.8888888888888888,
              "#fdca26"
             ],
             [
              1,
              "#f0f921"
             ]
            ],
            "type": "histogram2dcontour"
           }
          ],
          "mesh3d": [
           {
            "colorbar": {
             "outlinewidth": 0,
             "ticks": ""
            },
            "type": "mesh3d"
           }
          ],
          "parcoords": [
           {
            "line": {
             "colorbar": {
              "outlinewidth": 0,
              "ticks": ""
             }
            },
            "type": "parcoords"
           }
          ],
          "pie": [
           {
            "automargin": true,
            "type": "pie"
           }
          ],
          "scatter": [
           {
            "fillpattern": {
             "fillmode": "overlay",
             "size": 10,
             "solidity": 0.2
            },
            "type": "scatter"
           }
          ],
          "scatter3d": [
           {
            "line": {
             "colorbar": {
              "outlinewidth": 0,
              "ticks": ""
             }
            },
            "marker": {
             "colorbar": {
              "outlinewidth": 0,
              "ticks": ""
             }
            },
            "type": "scatter3d"
           }
          ],
          "scattercarpet": [
           {
            "marker": {
             "colorbar": {
              "outlinewidth": 0,
              "ticks": ""
             }
            },
            "type": "scattercarpet"
           }
          ],
          "scattergeo": [
           {
            "marker": {
             "colorbar": {
              "outlinewidth": 0,
              "ticks": ""
             }
            },
            "type": "scattergeo"
           }
          ],
          "scattergl": [
           {
            "marker": {
             "colorbar": {
              "outlinewidth": 0,
              "ticks": ""
             }
            },
            "type": "scattergl"
           }
          ],
          "scattermapbox": [
           {
            "marker": {
             "colorbar": {
              "outlinewidth": 0,
              "ticks": ""
             }
            },
            "type": "scattermapbox"
           }
          ],
          "scatterpolar": [
           {
            "marker": {
             "colorbar": {
              "outlinewidth": 0,
              "ticks": ""
             }
            },
            "type": "scatterpolar"
           }
          ],
          "scatterpolargl": [
           {
            "marker": {
             "colorbar": {
              "outlinewidth": 0,
              "ticks": ""
             }
            },
            "type": "scatterpolargl"
           }
          ],
          "scatterternary": [
           {
            "marker": {
             "colorbar": {
              "outlinewidth": 0,
              "ticks": ""
             }
            },
            "type": "scatterternary"
           }
          ],
          "surface": [
           {
            "colorbar": {
             "outlinewidth": 0,
             "ticks": ""
            },
            "colorscale": [
             [
              0,
              "#0d0887"
             ],
             [
              0.1111111111111111,
              "#46039f"
             ],
             [
              0.2222222222222222,
              "#7201a8"
             ],
             [
              0.3333333333333333,
              "#9c179e"
             ],
             [
              0.4444444444444444,
              "#bd3786"
             ],
             [
              0.5555555555555556,
              "#d8576b"
             ],
             [
              0.6666666666666666,
              "#ed7953"
             ],
             [
              0.7777777777777778,
              "#fb9f3a"
             ],
             [
              0.8888888888888888,
              "#fdca26"
             ],
             [
              1,
              "#f0f921"
             ]
            ],
            "type": "surface"
           }
          ],
          "table": [
           {
            "cells": {
             "fill": {
              "color": "#EBF0F8"
             },
             "line": {
              "color": "white"
             }
            },
            "header": {
             "fill": {
              "color": "#C8D4E3"
             },
             "line": {
              "color": "white"
             }
            },
            "type": "table"
           }
          ]
         },
         "layout": {
          "annotationdefaults": {
           "arrowcolor": "#2a3f5f",
           "arrowhead": 0,
           "arrowwidth": 1
          },
          "autotypenumbers": "strict",
          "coloraxis": {
           "colorbar": {
            "outlinewidth": 0,
            "ticks": ""
           }
          },
          "colorscale": {
           "diverging": [
            [
             0,
             "#8e0152"
            ],
            [
             0.1,
             "#c51b7d"
            ],
            [
             0.2,
             "#de77ae"
            ],
            [
             0.3,
             "#f1b6da"
            ],
            [
             0.4,
             "#fde0ef"
            ],
            [
             0.5,
             "#f7f7f7"
            ],
            [
             0.6,
             "#e6f5d0"
            ],
            [
             0.7,
             "#b8e186"
            ],
            [
             0.8,
             "#7fbc41"
            ],
            [
             0.9,
             "#4d9221"
            ],
            [
             1,
             "#276419"
            ]
           ],
           "sequential": [
            [
             0,
             "#0d0887"
            ],
            [
             0.1111111111111111,
             "#46039f"
            ],
            [
             0.2222222222222222,
             "#7201a8"
            ],
            [
             0.3333333333333333,
             "#9c179e"
            ],
            [
             0.4444444444444444,
             "#bd3786"
            ],
            [
             0.5555555555555556,
             "#d8576b"
            ],
            [
             0.6666666666666666,
             "#ed7953"
            ],
            [
             0.7777777777777778,
             "#fb9f3a"
            ],
            [
             0.8888888888888888,
             "#fdca26"
            ],
            [
             1,
             "#f0f921"
            ]
           ],
           "sequentialminus": [
            [
             0,
             "#0d0887"
            ],
            [
             0.1111111111111111,
             "#46039f"
            ],
            [
             0.2222222222222222,
             "#7201a8"
            ],
            [
             0.3333333333333333,
             "#9c179e"
            ],
            [
             0.4444444444444444,
             "#bd3786"
            ],
            [
             0.5555555555555556,
             "#d8576b"
            ],
            [
             0.6666666666666666,
             "#ed7953"
            ],
            [
             0.7777777777777778,
             "#fb9f3a"
            ],
            [
             0.8888888888888888,
             "#fdca26"
            ],
            [
             1,
             "#f0f921"
            ]
           ]
          },
          "colorway": [
           "#636efa",
           "#EF553B",
           "#00cc96",
           "#ab63fa",
           "#FFA15A",
           "#19d3f3",
           "#FF6692",
           "#B6E880",
           "#FF97FF",
           "#FECB52"
          ],
          "font": {
           "color": "#2a3f5f"
          },
          "geo": {
           "bgcolor": "white",
           "lakecolor": "white",
           "landcolor": "#E5ECF6",
           "showlakes": true,
           "showland": true,
           "subunitcolor": "white"
          },
          "hoverlabel": {
           "align": "left"
          },
          "hovermode": "closest",
          "mapbox": {
           "style": "light"
          },
          "paper_bgcolor": "white",
          "plot_bgcolor": "#E5ECF6",
          "polar": {
           "angularaxis": {
            "gridcolor": "white",
            "linecolor": "white",
            "ticks": ""
           },
           "bgcolor": "#E5ECF6",
           "radialaxis": {
            "gridcolor": "white",
            "linecolor": "white",
            "ticks": ""
           }
          },
          "scene": {
           "xaxis": {
            "backgroundcolor": "#E5ECF6",
            "gridcolor": "white",
            "gridwidth": 2,
            "linecolor": "white",
            "showbackground": true,
            "ticks": "",
            "zerolinecolor": "white"
           },
           "yaxis": {
            "backgroundcolor": "#E5ECF6",
            "gridcolor": "white",
            "gridwidth": 2,
            "linecolor": "white",
            "showbackground": true,
            "ticks": "",
            "zerolinecolor": "white"
           },
           "zaxis": {
            "backgroundcolor": "#E5ECF6",
            "gridcolor": "white",
            "gridwidth": 2,
            "linecolor": "white",
            "showbackground": true,
            "ticks": "",
            "zerolinecolor": "white"
           }
          },
          "shapedefaults": {
           "line": {
            "color": "#2a3f5f"
           }
          },
          "ternary": {
           "aaxis": {
            "gridcolor": "white",
            "linecolor": "white",
            "ticks": ""
           },
           "baxis": {
            "gridcolor": "white",
            "linecolor": "white",
            "ticks": ""
           },
           "bgcolor": "#E5ECF6",
           "caxis": {
            "gridcolor": "white",
            "linecolor": "white",
            "ticks": ""
           }
          },
          "title": {
           "x": 0.05
          },
          "xaxis": {
           "automargin": true,
           "gridcolor": "white",
           "linecolor": "white",
           "ticks": "",
           "title": {
            "standoff": 15
           },
           "zerolinecolor": "white",
           "zerolinewidth": 2
          },
          "yaxis": {
           "automargin": true,
           "gridcolor": "white",
           "linecolor": "white",
           "ticks": "",
           "title": {
            "standoff": 15
           },
           "zerolinecolor": "white",
           "zerolinewidth": 2
          }
         }
        },
        "xaxis": {
         "anchor": "y",
         "domain": [
          0,
          1
         ],
         "title": {
          "text": "distance_class"
         }
        },
        "yaxis": {
         "anchor": "x",
         "domain": [
          0,
          1
         ],
         "title": {
          "text": "share"
         }
        }
       }
      }
     },
     "metadata": {},
     "output_type": "display_data"
    }
   ],
   "source": [
    "import plotly.express as px\n",
    "px.line(df_comparison, x = \"distance_class\", y = \"share\", color = \"mode\", line_dash = \"source\")"
   ]
  }
 ],
 "metadata": {
  "kernelspec": {
   "display_name": "explo24",
   "language": "python",
   "name": "python3"
  },
  "language_info": {
   "codemirror_mode": {
    "name": "ipython",
    "version": 3
   },
   "file_extension": ".py",
   "mimetype": "text/x-python",
   "name": "python",
   "nbconvert_exporter": "python",
   "pygments_lexer": "ipython3",
   "version": "3.12.5"
  }
 },
 "nbformat": 4,
 "nbformat_minor": 2
}
