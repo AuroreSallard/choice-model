{
 "cells": [
  {
   "cell_type": "code",
   "execution_count": 1,
   "metadata": {},
   "outputs": [],
   "source": [
    "import pandas as pd\n",
    "import numpy as np\n",
    "import geopandas as gpd"
   ]
  },
  {
   "cell_type": "markdown",
   "metadata": {},
   "source": [
    "### Trip information"
   ]
  },
  {
   "cell_type": "code",
   "execution_count": 2,
   "metadata": {},
   "outputs": [],
   "source": [
    "# Start with loading the trips\n",
    "trips_path = \"../../results/surveys/egt_2010/cleaned/trips.parquet\"\n",
    "df_trips = pd.read_parquet(trips_path)\n",
    "\n",
    "# Clean up of attributes\n",
    "df_trips[\"euclidean_distance_km\"] = df_trips[\"euclidean_distance\"] * 1e-3\n",
    "df_trips[\"origin_home\"] = df_trips[\"origin_activity_type\"] == \"home\"\n",
    "df_trips[\"destination_home\"] = df_trips[\"destination_activity_type\"] == \"home\"\n",
    "\n",
    "# Markers\n",
    "df_trips[\"is_first\"] = df_trips[\"person_id\"].shift(1) != df_trips[\"person_id\"]\n",
    "df_trips[\"is_last\"] = df_trips[\"person_id\"].shift(-1) != df_trips[\"person_id\"]\n",
    "\n",
    "# Rename\n",
    "df_trips[\"mode\"] = df_trips[\"mode\"].replace({ \"pt\": \"transit\" })"
   ]
  },
  {
   "cell_type": "markdown",
   "metadata": {},
   "source": [
    "### Person information"
   ]
  },
  {
   "cell_type": "code",
   "execution_count": 3,
   "metadata": {},
   "outputs": [],
   "source": [
    "# Person: merge in person-level information\n",
    "persons_path = \"../../results/surveys/egt_2010/cleaned/persons.parquet\"\n",
    "df_persons = pd.read_parquet(persons_path)\n",
    "\n",
    "df_trips = pd.merge(df_trips, df_persons[[\n",
    "    \"person_id\", \"weight\", \"age\",\n",
    "    \"has_pt_subscription\", \"has_driving_permit\", \"has_motorbike_permit\"]])"
   ]
  },
  {
   "cell_type": "code",
   "execution_count": 4,
   "metadata": {},
   "outputs": [],
   "source": [
    "# Using income will remove about 30% of the households\n",
    "use_income = False\n",
    "\n",
    "if use_income:\n",
    "    households_path = \"../../results/surveys/egt_2010/cleaned/households.parquet\"\n",
    "    df_households = pd.read_parquet(households_path)\n",
    "\n",
    "    df_trips = pd.merge(df_trips, df_households[[\n",
    "        \"household_id\", \"income_per_person_EUR\", \"income_EUR\"]])\n",
    "    \n",
    "    df_trips = df_trips[~df_trips[\"income_EUR\"].isna()].copy()"
   ]
  },
  {
   "cell_type": "markdown",
   "metadata": {},
   "source": [
    "### Spatial information"
   ]
  },
  {
   "cell_type": "code",
   "execution_count": 5,
   "metadata": {},
   "outputs": [],
   "source": [
    "# Spatial: merge in spatial information such as IRIS and whether trip starts/ends in Paris\n",
    "spatial_path = \"../../results/surveys/egt_2010/spatial.parquet\"\n",
    "df_spatial = gpd.read_parquet(spatial_path)\n",
    "\n",
    "iris_path = \"../../results/spatial/iris.parquet\"\n",
    "df_iris = gpd.read_parquet(iris_path).to_crs(\"EPSG:2154\")"
   ]
  },
  {
   "cell_type": "code",
   "execution_count": 6,
   "metadata": {},
   "outputs": [],
   "source": [
    "df_origin = gpd.sjoin(\n",
    "    df_spatial.set_geometry(\"origin_geometry\"), \n",
    "    df_iris, predicate = \"within\").rename(columns = { \"iris\": \"origin_iris\" })[[\"trip_id\", \"origin_iris\"]]\n",
    "\n",
    "df_destination = gpd.sjoin(\n",
    "    df_spatial.set_geometry(\"destination_geometry\"),\n",
    "    df_iris, predicate = \"within\").rename(columns = { \"iris\": \"destination_iris\" })[[\"trip_id\", \"destination_iris\"]]"
   ]
  },
  {
   "cell_type": "code",
   "execution_count": 7,
   "metadata": {},
   "outputs": [],
   "source": [
    "df_trips = pd.merge(df_trips, df_origin, on = \"trip_id\")\n",
    "df_trips = pd.merge(df_trips, df_destination, on = \"trip_id\")\n",
    "\n",
    "df_trips[\"origin_paris\"] = df_trips[\"origin_iris\"].str[:2] == \"75\"\n",
    "df_trips[\"destination_paris\"] = df_trips[\"destination_iris\"].str[:2] == \"75\""
   ]
  },
  {
   "cell_type": "code",
   "execution_count": 8,
   "metadata": {},
   "outputs": [],
   "source": [
    "df_coordinates = df_spatial[[\"trip_id\", \"origin_geometry\", \"destination_geometry\"]].copy()\n",
    "df_coordinates[\"origin_x\"] = df_spatial[\"origin_geometry\"].apply(lambda coord: coord.x)\n",
    "df_coordinates[\"origin_y\"] = df_spatial[\"origin_geometry\"].apply(lambda coord: coord.y)\n",
    "df_coordinates[\"destination_x\"] = df_spatial[\"destination_geometry\"].apply(lambda coord: coord.x)\n",
    "df_coordinates[\"destination_y\"] = df_spatial[\"destination_geometry\"].apply(lambda coord: coord.y)\n",
    "df_trips = pd.merge(df_trips, df_coordinates)"
   ]
  },
  {
   "cell_type": "markdown",
   "metadata": {},
   "source": [
    "### Road trip information"
   ]
  },
  {
   "cell_type": "code",
   "execution_count": 9,
   "metadata": {},
   "outputs": [],
   "source": [
    "road_path = \"../../results/road/routing.parquet\"\n",
    "\n",
    "df_road = pd.read_parquet(road_path)[[\n",
    "    \"trip_id\", \"in_vehicle_time_min\", \"in_vehicle_distance_km\",\n",
    "    \"access_time_min\", \"egress_time_min\"\n",
    "]]\n",
    "\n",
    "df_road[\"walk_time_min\"] = df_road[\"access_time_min\"] + df_road[\"egress_time_min\"]"
   ]
  },
  {
   "cell_type": "code",
   "execution_count": 10,
   "metadata": {},
   "outputs": [],
   "source": [
    "df_car = df_road.copy()\n",
    "df_car.columns = [\"car_{}\".format(c) if c != \"trip_id\" else c for c in df_car.columns]\n",
    "\n",
    "car_cost_per_km = 0.2 # EUR\n",
    "df_car[\"car_cost_EUR\"] = car_cost_per_km * df_car[\"car_in_vehicle_distance_km\"]\n",
    "\n",
    "df_trips = pd.merge(df_trips, df_car)"
   ]
  },
  {
   "cell_type": "code",
   "execution_count": 11,
   "metadata": {},
   "outputs": [],
   "source": [
    "df_motorbike = df_road.copy()\n",
    "df_motorbike.columns = [\"motorbike_{}\".format(c) if c != \"trip_id\" else c for c in df_motorbike.columns]\n",
    "\n",
    "motorbike_cost_per_km = car_cost_per_km * 0.5 # EUR\n",
    "df_motorbike[\"motorbike_cost_EUR\"] = motorbike_cost_per_km * df_motorbike[\"motorbike_in_vehicle_distance_km\"]\n",
    "\n",
    "df_trips = pd.merge(df_trips, df_motorbike)"
   ]
  },
  {
   "cell_type": "code",
   "execution_count": 12,
   "metadata": {},
   "outputs": [],
   "source": [
    "df_car_passenger = df_road.copy()\n",
    "df_car_passenger.columns = [\"car_passenger_{}\".format(c) if c != \"trip_id\" else c for c in df_car_passenger.columns]\n",
    "df_trips = pd.merge(df_trips, df_car_passenger)"
   ]
  },
  {
   "cell_type": "markdown",
   "metadata": {},
   "source": [
    "### Parking information"
   ]
  },
  {
   "cell_type": "code",
   "execution_count": 13,
   "metadata": {},
   "outputs": [],
   "source": [
    "parking_path = \"../../results/parking/parking_pressure.parquet\"\n",
    "df_pressure = gpd.read_parquet(parking_path)[[\"iris\", \"parking_pressure\"]].rename(columns = {\n",
    "    \"iris\": \"destination_iris\"\n",
    "})\n",
    "\n",
    "df_trips = pd.merge(df_trips, df_pressure, on = \"destination_iris\")"
   ]
  },
  {
   "cell_type": "code",
   "execution_count": 14,
   "metadata": {},
   "outputs": [],
   "source": [
    "parking_duration_min = (df_trips[\"departure_time\"].shift(-1) - df_trips[\"departure_time\"]) / 60.0 - df_trips[\"car_in_vehicle_time_min\"] - df_trips[\"car_access_time_min\"]\n",
    "parking_duration_min[df_trips[\"is_last\"].values] = 8 * 60.0\n",
    "\n",
    "is_resident = df_trips[\"origin_paris\"] & df_trips[\"origin_home\"]\n",
    "is_resident |= df_trips[\"destination_paris\"] & df_trips[\"destination_home\"]\n",
    "residents = df_trips.loc[~is_resident, \"person_id\"].unique()\n",
    "\n",
    "is_relevant = df_trips[\"destination_paris\"] & ~df_trips[\"person_id\"].isin(residents)\n",
    "\n",
    "parking_cost_per_hour_EUR = 3.0\n",
    "parking_cost_EUR = parking_cost_per_hour_EUR * np.maximum(1.0, np.ceil(parking_duration_min / 60.0))\n",
    "\n",
    "df_trips[\"parking_cost_EUR\"] = 0.0\n",
    "df_trips.loc[is_relevant, \"parking_cost_EUR\"] = parking_cost_EUR[is_relevant]"
   ]
  },
  {
   "cell_type": "markdown",
   "metadata": {},
   "source": [
    "### Transit trip information"
   ]
  },
  {
   "cell_type": "code",
   "execution_count": 15,
   "metadata": {},
   "outputs": [],
   "source": [
    "transit_path = \"../../results/transit/routing.parquet\"\n",
    "df_transit = pd.read_parquet(transit_path)[[\n",
    "    \"trip_id\", \"is_only_walk\", \"transfers\",\n",
    "    \"access_walk_time_min\", \"egress_walk_time_min\", \"transfer_walk_time_min\",\n",
    "    \"transfer_wait_time_min\", \"initial_wait_time_min\",\n",
    "    \"in_vehicle_travel_time\", \"in_vehicle_travel_time_by_mode_min\"\n",
    "]]"
   ]
  },
  {
   "cell_type": "code",
   "execution_count": 16,
   "metadata": {},
   "outputs": [],
   "source": [
    "df_transit[\"in_vehicle_travel_time_min\"] = df_transit[\"in_vehicle_travel_time\"]\n",
    "\n",
    "for mode in (\"rail\", \"tram\", \"subway\", \"bus\"):\n",
    "    df_transit[\"in_vehicle_time_{}_min\".format(mode)] = df_transit[\"in_vehicle_travel_time_by_mode_min\"].apply(\n",
    "        lambda item: item[mode]).fillna(0.0)\n",
    "    \n",
    "df_transit[\"only_bus\"] = df_transit[\"in_vehicle_time_rail_min\"] == 0.0\n",
    "df_transit[\"only_bus\"] &= df_transit[\"in_vehicle_time_subway_min\"] == 0.0\n",
    "df_transit[\"only_bus\"] &= df_transit[\"in_vehicle_time_tram_min\"] == 0.0\n",
    "df_transit[\"only_bus\"] &= df_transit[\"in_vehicle_time_bus_min\"] > 0.0\n",
    "\n",
    "df_transit[\"without_rail\"] = df_transit[\"in_vehicle_time_rail_min\"] == 0.0\n",
    "\n",
    "df_transit[\"total_in_vehicle_time_min\"] = df_transit[\"in_vehicle_travel_time\"]\n",
    "\n",
    "df_transit[\"total_walk_time_min\"] = df_transit[\"access_walk_time_min\"]\n",
    "df_transit[\"total_walk_time_min\"] += df_transit[\"egress_walk_time_min\"]\n",
    "df_transit[\"total_walk_time_min\"] += df_transit[\"transfer_walk_time_min\"]"
   ]
  },
  {
   "cell_type": "code",
   "execution_count": 17,
   "metadata": {},
   "outputs": [],
   "source": [
    "df_transit.columns = [\"transit_{}\".format(c) if c != \"trip_id\" else c for c in df_transit.columns]\n",
    "df_trips = pd.merge(df_trips, df_transit)"
   ]
  },
  {
   "cell_type": "code",
   "execution_count": 18,
   "metadata": {},
   "outputs": [],
   "source": [
    "sigmoid = lambda x: 1.0 / (1.0 + np.exp(-x))\n",
    "a, b, c, d = 0.098, 0.006, 0.006, -0.77\n",
    "center_x, center_y = 651726, 6862287\n",
    "\n",
    "distance_origin_destination = df_trips[\"euclidean_distance\"] * 1e-3\n",
    "\n",
    "distance_origin_center = np.sqrt(\n",
    "    (df_trips[\"origin_x\"] - center_x)**2 + (df_trips[\"origin_y\"] - center_y)**2\n",
    ") * 1e-3\n",
    "\n",
    "distance_destination_center = np.sqrt(\n",
    "    (df_trips[\"destination_x\"] - center_x)**2 + (df_trips[\"destination_y\"] - center_y)**2\n",
    ") * 1e-3\n",
    "\n",
    "# base price according to regression\n",
    "cost = np.maximum(\n",
    "    1.9,\n",
    "    5.5 * sigmoid(\n",
    "        a * distance_origin_destination + b * distance_origin_center + c * distance_destination_center + d)\n",
    ")\n",
    "\n",
    "# special case: Within Paris, or only metro and bus\n",
    "f_paris = df_trips[\"origin_paris\"] & df_trips[\"destination_paris\"]\n",
    "f_without_rail = df_trips[\"transit_without_rail\"]\n",
    "cost[f_paris | f_without_rail] = 1.8\n",
    "\n",
    "# special case: Subscription\n",
    "f_subscription = df_trips[\"has_pt_subscription\"]\n",
    "cost[f_subscription] = 0.0\n",
    "\n",
    "# write back\n",
    "df_trips[\"transit_cost_EUR\"] = cost"
   ]
  },
  {
   "cell_type": "markdown",
   "metadata": {},
   "source": [
    "### Walk trip information"
   ]
  },
  {
   "cell_type": "code",
   "execution_count": 19,
   "metadata": {},
   "outputs": [],
   "source": [
    "df_walk = df_trips[[\"trip_id\", \"euclidean_distance_km\"]].copy()\n",
    "\n",
    "walk_factor = 1.3\n",
    "walk_speed = 4.5 # km/h\n",
    "\n",
    "df_walk[\"travel_time_min\"] = (walk_factor * df_walk[\"euclidean_distance_km\"] / walk_speed) * 60"
   ]
  },
  {
   "cell_type": "code",
   "execution_count": 20,
   "metadata": {},
   "outputs": [],
   "source": [
    "maximum_walk_time_min = 120\n",
    "df_walk[\"availability\"] = df_walk[\"travel_time_min\"] <= maximum_walk_time_min"
   ]
  },
  {
   "cell_type": "code",
   "execution_count": 21,
   "metadata": {},
   "outputs": [],
   "source": [
    "df_walk = df_walk[[\"trip_id\", \"availability\", \"travel_time_min\"]]\n",
    "df_walk.columns = [\"walk_{}\".format(c) if c != \"trip_id\" else c for c in df_walk.columns]\n",
    "df_trips = pd.merge(df_trips, df_walk)"
   ]
  },
  {
   "cell_type": "markdown",
   "metadata": {},
   "source": [
    "### Bicycle trip information"
   ]
  },
  {
   "cell_type": "code",
   "execution_count": 22,
   "metadata": {},
   "outputs": [],
   "source": [
    "df_bicycle = df_trips[[\"trip_id\", \"euclidean_distance_km\"]].copy()\n",
    "\n",
    "bicycle_factor = 1.3\n",
    "bicycle_speed = 15 # km/h\n",
    "\n",
    "df_bicycle[\"travel_time_min\"] = (bicycle_factor * df_bicycle[\"euclidean_distance_km\"] / bicycle_speed) * 60"
   ]
  },
  {
   "cell_type": "code",
   "execution_count": 23,
   "metadata": {},
   "outputs": [],
   "source": [
    "df_bicycle = df_bicycle[[\"trip_id\", \"travel_time_min\"]]\n",
    "df_bicycle.columns = [\"bicycle_{}\".format(c) if c != \"trip_id\" else c for c in df_bicycle.columns]\n",
    "df_trips = pd.merge(df_trips, df_bicycle)"
   ]
  },
  {
   "cell_type": "markdown",
   "metadata": {},
   "source": [
    "### Availabilities"
   ]
  },
  {
   "cell_type": "code",
   "execution_count": 24,
   "metadata": {},
   "outputs": [],
   "source": [
    "availabilities_path = \"../../results/surveys/egt_2010/availabilities.parquet\"\n",
    "df_availabilities = pd.read_parquet(availabilities_path)"
   ]
  },
  {
   "cell_type": "code",
   "execution_count": 25,
   "metadata": {},
   "outputs": [],
   "source": [
    "df_partial = df_availabilities.copy()\n",
    "df_partial[\"car_availability\"] = df_partial[\"car_availability_by_vehicles\"] != \"none\"\n",
    "df_partial[\"bicycle_availability\"] = df_partial[\"bicycle_availability_by_vehicles\"] != \"none\"\n",
    "df_partial[\"motorbike_availability\"] = df_partial[\"motorbike_availability_by_vehicles\"] != \"none\"\n",
    "df_trips = pd.merge(df_trips, df_partial[[\n",
    "    \"person_id\", \"car_availability\", \"bicycle_availability\", \"motorbike_availability\"]])"
   ]
  },
  {
   "cell_type": "code",
   "execution_count": 26,
   "metadata": {},
   "outputs": [],
   "source": [
    "df_trips.loc[~df_trips[\"has_driving_permit\"], \"car_availability\"] = False\n",
    "df_trips.loc[~df_trips[\"has_motorbike_permit\"], \"motorbike_availability\"] = False"
   ]
  },
  {
   "cell_type": "code",
   "execution_count": 27,
   "metadata": {},
   "outputs": [],
   "source": [
    "df_trips[\"transit_availability\"] = ~df_trips[\"transit_is_only_walk\"].astype(bool)"
   ]
  },
  {
   "cell_type": "code",
   "execution_count": 28,
   "metadata": {},
   "outputs": [],
   "source": [
    "# passenger availabiltiy depends on vehicle availability in the household!\n",
    "df_trips[\"car_passenger_availability\"] = df_trips[\"car_availability\"] | df_trips[\"motorbike_availability\"]"
   ]
  },
  {
   "cell_type": "markdown",
   "metadata": {},
   "source": [
    "### Validity checks"
   ]
  },
  {
   "cell_type": "code",
   "execution_count": 29,
   "metadata": {},
   "outputs": [],
   "source": [
    "for column in df_trips.columns:\n",
    "    if np.count_nonzero(df_trips[column].isna()) > 0:\n",
    "        print(column, np.count_nonzero(df_trips[column].isna()) / len(df_trips))\n",
    "\n",
    "for column in df_trips.columns:  \n",
    "    assert np.count_nonzero(df_trips[column].isna()) == 0"
   ]
  },
  {
   "cell_type": "code",
   "execution_count": 30,
   "metadata": {},
   "outputs": [
    {
     "data": {
      "text/plain": [
       "np.float64(4.418787040979056)"
      ]
     },
     "execution_count": 30,
     "metadata": {},
     "output_type": "execute_result"
    }
   ],
   "source": [
    "df_trips = df_trips[df_trips[\"euclidean_distance_km\"] > 0.0].copy()\n",
    "(df_trips[\"euclidean_distance_km\"] * df_trips[\"weight\"]).sum() / df_trips[\"weight\"].sum()"
   ]
  },
  {
   "cell_type": "code",
   "execution_count": 31,
   "metadata": {},
   "outputs": [],
   "source": [
    "if \"income_per_person_EUR\" in df_trips:\n",
    "    (df_trips[\"income_per_person_EUR\"] * df_trips[\"weight\"]).sum() / df_trips[\"weight\"].sum()"
   ]
  },
  {
   "cell_type": "code",
   "execution_count": 32,
   "metadata": {},
   "outputs": [],
   "source": [
    "use_motorbike = False\n",
    "\n",
    "if not use_motorbike:\n",
    "    df_trips.loc[df_trips[\"mode\"] == \"motorbike\", \"mode\"] = \"car\"\n",
    "    df_trips[\"has_driving_permit\"] |= df_trips[\"has_motorbike_permit\"]\n",
    "    df_trips[\"car_availability\"] |= df_trips[\"motorbike_availability\"]\n",
    "    \n",
    "    df_trips = df_trips[[c for c in df_trips.columns if not c.startswith(\"motorbike_\")]]"
   ]
  },
  {
   "cell_type": "markdown",
   "metadata": {},
   "source": [
    "### Cleanup"
   ]
  },
  {
   "cell_type": "code",
   "execution_count": 33,
   "metadata": {},
   "outputs": [
    {
     "name": "stdout",
     "output_type": "stream",
     "text": [
      "Removing 485 invalid trips for car\n",
      "Removing 7616 invalid trips for car_passenger\n",
      "Removing 506 invalid trips for transit\n",
      "Removing 117 invalid trips for bicycle\n",
      "Removing 6 invalid trips for walk\n"
     ]
    }
   ],
   "source": [
    "f_remove = np.zeros((len(df_trips),), dtype = bool)\n",
    "\n",
    "modes = [\"car\", \"car_passenger\", \"transit\", \"bicycle\", \"walk\"]\n",
    "if use_motorbike: modes.append(\"motorbike\")\n",
    "\n",
    "for mode in modes:\n",
    "    f_mode = ~df_trips[\"{}_availability\".format(mode)] & (df_trips[\"mode\"] == mode)\n",
    "    print(\"Removing {} invalid trips for {}\".format(np.count_nonzero(f_mode), mode))\n",
    "    f_remove |= f_mode\n",
    "\n",
    "df_trips = df_trips[~f_remove].copy()"
   ]
  },
  {
   "cell_type": "markdown",
   "metadata": {},
   "source": [
    "### Output"
   ]
  },
  {
   "cell_type": "code",
   "execution_count": 34,
   "metadata": {},
   "outputs": [],
   "source": [
    "output_path = \"../../results/choice_model/input.parquet\"\n",
    "\n",
    "columns = [\n",
    "    \"trip_id\", \"weight\", \"mode\", \"euclidean_distance_km\",\n",
    "\n",
    "    # person\n",
    "    \"age\",\n",
    "\n",
    "    # car\n",
    "    \"car_availability\", \"has_driving_permit\",\n",
    "    \"car_in_vehicle_time_min\", \"car_cost_EUR\",\n",
    "    \"car_access_time_min\", \"car_egress_time_min\", \"car_walk_time_min\",\n",
    "\n",
    "    # parking\n",
    "    \"parking_cost_EUR\", \"parking_pressure\",\n",
    "\n",
    "    # car passenger\n",
    "    \"car_passenger_availability\",\n",
    "    \"car_passenger_in_vehicle_time_min\",\n",
    "    \"car_passenger_access_time_min\", \"car_passenger_egress_time_min\", \"car_passenger_walk_time_min\",\n",
    "\n",
    "    # transit\n",
    "    \"has_pt_subscription\",\n",
    "    \"transit_availability\", \"transit_transfers\", \"transit_only_bus\",\n",
    "    \"transit_total_in_vehicle_time_min\", \"transit_total_walk_time_min\",\n",
    "    \"transit_transfer_wait_time_min\", \"transit_initial_wait_time_min\",\n",
    "    \"transit_cost_EUR\",\n",
    "    \"transit_in_vehicle_time_rail_min\", \"transit_in_vehicle_time_tram_min\",\n",
    "    \"transit_in_vehicle_time_subway_min\", \"transit_in_vehicle_time_bus_min\",\n",
    "\n",
    "    # bicycle\n",
    "    \"bicycle_availability\", \"bicycle_travel_time_min\",\n",
    "\n",
    "    # walking\n",
    "    \"walk_availability\", \"walk_travel_time_min\",\n",
    "    \n",
    "    # for spatial analysis\n",
    "    \"origin_iris\", \"destination_iris\" \n",
    "]\n",
    "\n",
    "if use_motorbike:\n",
    "    columns += [\n",
    "        # motorbike\n",
    "        \"motorbike_availability\", \"has_motorbike_permit\",\n",
    "        \"motorbike_in_vehicle_time_min\", \"motorbike_cost_EUR\",\n",
    "        \"motorbike_access_time_min\", \"motorbike_egress_time_min\", \"motorbike_walk_time_min\",\n",
    "    ]\n",
    "\n",
    "if \"income_EUR\" in df_trips:\n",
    "    columns += [\"income_per_person_EUR\", \"income_EUR\"]\n",
    "\n",
    "df_trips[columns].to_parquet(output_path)"
   ]
  }
 ],
 "metadata": {
  "kernelspec": {
   "display_name": "explo24",
   "language": "python",
   "name": "python3"
  },
  "language_info": {
   "codemirror_mode": {
    "name": "ipython",
    "version": 3
   },
   "file_extension": ".py",
   "mimetype": "text/x-python",
   "name": "python",
   "nbconvert_exporter": "python",
   "pygments_lexer": "ipython3",
   "version": "3.12.5"
  }
 },
 "nbformat": 4,
 "nbformat_minor": 2
}
