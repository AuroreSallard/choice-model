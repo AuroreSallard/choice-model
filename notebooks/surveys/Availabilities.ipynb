{
 "cells": [
  {
   "cell_type": "code",
   "execution_count": 1,
   "metadata": {},
   "outputs": [],
   "source": [
    "import pandas as pd\n",
    "import numpy as np"
   ]
  },
  {
   "cell_type": "code",
   "execution_count": 2,
   "metadata": {},
   "outputs": [],
   "source": [
    "survey_path = \"../../results/surveys/egt_2010/cleaned\"\n",
    "output_path = \"../../results/surveys/egt_2010/availabilities.parquet\""
   ]
  },
  {
   "cell_type": "code",
   "execution_count": 3,
   "metadata": {},
   "outputs": [],
   "source": [
    "if \"papermill\" in locals():\n",
    "    survey_path = papermill.input[0]\n",
    "    output_path = papermill.output[0]"
   ]
  },
  {
   "cell_type": "code",
   "execution_count": 4,
   "metadata": {},
   "outputs": [],
   "source": [
    "df_households = pd.read_parquet(\"{}/households.parquet\".format(survey_path))\n",
    "df_persons = pd.read_parquet(\"{}/persons.parquet\".format(survey_path))\n",
    "df_trips = pd.read_parquet(\"{}/trips.parquet\".format(survey_path))"
   ]
  },
  {
   "cell_type": "markdown",
   "metadata": {},
   "source": [
    "### Use-based availabilities\n",
    "First figure out the persons actually using car and then determine if there are remaining cars / bikes in the household."
   ]
  },
  {
   "cell_type": "code",
   "execution_count": 5,
   "metadata": {},
   "outputs": [
    {
     "name": "stdout",
     "output_type": "stream",
     "text": [
      "Consistent car 0.9789721195834733\n",
      "Consistent motorbike 0.9963050050386295\n",
      "Consistent bicycle 0.9950285522337924\n"
     ]
    }
   ],
   "source": [
    "for mode in (\"car\", \"motorbike\", \"bicycle\"):\n",
    "    df_vehicles = df_households[[\"household_id\", \"number_of_{}s\".format(mode)]]\n",
    "    df_active = df_trips[df_trips[\"mode\"] == mode].drop_duplicates(\"person_id\")[[\"household_id\", \"person_id\"]]\n",
    "    df_vehicles = pd.merge(df_vehicles, df_active.groupby(\"household_id\").size().reset_index(name = \"active\"), how = \"left\")\n",
    "    df_vehicles[\"active\"] = df_vehicles[\"active\"].fillna(0).astype(int)\n",
    "    df_vehicles[\"unused\"] = np.maximum(0, df_vehicles[\"number_of_{}s\".format(mode)] - df_vehicles[\"active\"])\n",
    "    \n",
    "    print(\"Consistent\", mode, np.mean(df_vehicles[\"number_of_{}s\".format(mode)] >= df_vehicles[\"active\"]))\n",
    "\n",
    "    df_persons[\"{}_availability_by_use\".format(mode)] = df_persons[\"person_id\"].isin(df_active[\"person_id\"])\n",
    "    df_persons[\"{}_availability_by_use\".format(mode)] |= df_persons[\"household_id\"].isin(df_vehicles[\n",
    "        df_vehicles[\"unused\"] > 0][\"household_id\"])"
   ]
  },
  {
   "cell_type": "markdown",
   "metadata": {},
   "source": [
    "### Vehicle-based availabilities\n",
    "\n",
    "Compare number of potential users (driving permit for car) in a household vs. the number of available cars / bikes"
   ]
  },
  {
   "cell_type": "code",
   "execution_count": 6,
   "metadata": {},
   "outputs": [],
   "source": [
    "# Cars\n",
    "df_availability = df_households[[\"household_id\", \"number_of_cars\"]]\n",
    "df_availability = pd.merge(\n",
    "    df_availability,\n",
    "    df_persons[\n",
    "        df_persons[\"has_driving_permit\"]\n",
    "    ].groupby(\"household_id\").size().reset_index(name = \"persons\"),\n",
    "    how = \"left\")\n",
    "\n",
    "df_availability[\"car_availability_by_vehicles\"] = \"none\"\n",
    "df_availability.loc[\n",
    "    df_availability[\"number_of_cars\"] > 0, \"car_availability_by_vehicles\"] = \"some\"\n",
    "df_availability.loc[\n",
    "    df_availability[\"number_of_cars\"] >= df_availability[\"persons\"], \"car_availability_by_vehicles\"] = \"all\"\n",
    "\n",
    "df_persons = pd.merge(df_persons, \n",
    "    df_availability[[\"household_id\", \"car_availability_by_vehicles\"]], on = \"household_id\", how = \"left\")"
   ]
  },
  {
   "cell_type": "code",
   "execution_count": 7,
   "metadata": {},
   "outputs": [
    {
     "data": {
      "text/plain": [
       "car_availability_by_vehicles  car_availability_by_use\n",
       "all                           False                       4541\n",
       "                              True                       15100\n",
       "none                          False                       6949\n",
       "                              True                          51\n",
       "some                          False                       3260\n",
       "                              True                        5274\n",
       "Name: count, dtype: int64"
      ]
     },
     "execution_count": 7,
     "metadata": {},
     "output_type": "execute_result"
    }
   ],
   "source": [
    "df_persons.value_counts([\"car_availability_by_vehicles\", \"car_availability_by_use\"]).sort_index()"
   ]
  },
  {
   "cell_type": "code",
   "execution_count": 8,
   "metadata": {},
   "outputs": [],
   "source": [
    "# Motorbikes\n",
    "df_availability = df_households[[\"household_id\", \"number_of_motorbikes\"]]\n",
    "df_availability = pd.merge(\n",
    "    df_availability,\n",
    "    df_persons[\n",
    "        df_persons[\"has_motorbike_permit\"]\n",
    "    ].groupby(\"household_id\").size().reset_index(name = \"persons\"),\n",
    "    how = \"left\")\n",
    "\n",
    "df_availability[\"motorbike_availability_by_vehicles\"] = \"none\"\n",
    "df_availability.loc[\n",
    "    df_availability[\"number_of_motorbikes\"] > 0, \"motorbike_availability_by_vehicles\"] = \"some\"\n",
    "df_availability.loc[\n",
    "    df_availability[\"number_of_motorbikes\"] >= df_availability[\"persons\"], \"motorbike_availability_by_vehicles\"] = \"all\"\n",
    "\n",
    "df_persons = pd.merge(df_persons, \n",
    "    df_availability[[\"household_id\", \"motorbike_availability_by_vehicles\"]], on = \"household_id\", how = \"left\")"
   ]
  },
  {
   "cell_type": "code",
   "execution_count": 9,
   "metadata": {},
   "outputs": [
    {
     "data": {
      "text/plain": [
       "motorbike_availability_by_vehicles  motorbike_availability_by_use\n",
       "all                                 False                              125\n",
       "                                    True                               884\n",
       "none                                False                            31376\n",
       "                                    True                                21\n",
       "some                                False                              624\n",
       "                                    True                              2145\n",
       "Name: count, dtype: int64"
      ]
     },
     "execution_count": 9,
     "metadata": {},
     "output_type": "execute_result"
    }
   ],
   "source": [
    "df_persons.value_counts([\"motorbike_availability_by_vehicles\", \"motorbike_availability_by_use\"]).sort_index()"
   ]
  },
  {
   "cell_type": "code",
   "execution_count": 10,
   "metadata": {},
   "outputs": [],
   "source": [
    "# Bicycles\n",
    "df_availability = df_households[[\"household_id\", \"number_of_bicycles\"]]\n",
    "df_availability = pd.merge(\n",
    "    df_availability,\n",
    "    df_persons.groupby(\"household_id\").size().reset_index(name = \"persons\"),\n",
    "    how = \"left\")\n",
    "\n",
    "df_availability[\"bicycle_availability_by_vehicles\"] = \"none\"\n",
    "df_availability.loc[\n",
    "    df_availability[\"number_of_bicycles\"] > 0, \"bicycle_availability_by_vehicles\"] = \"some\"\n",
    "df_availability.loc[\n",
    "    df_availability[\"number_of_bicycles\"] >= df_availability[\"persons\"], \"bicycle_availability_by_vehicles\"] = \"all\"\n",
    "\n",
    "df_persons = pd.merge(df_persons, \n",
    "    df_availability[[\"household_id\", \"bicycle_availability_by_vehicles\"]], on = \"household_id\", how = \"left\")"
   ]
  },
  {
   "cell_type": "code",
   "execution_count": 11,
   "metadata": {},
   "outputs": [
    {
     "data": {
      "text/plain": [
       "bicycle_availability_by_vehicles  bicycle_availability_by_use\n",
       "all                               True                            9263\n",
       "none                              False                          14306\n",
       "                                  True                              74\n",
       "some                              False                            187\n",
       "                                  True                           11345\n",
       "Name: count, dtype: int64"
      ]
     },
     "execution_count": 11,
     "metadata": {},
     "output_type": "execute_result"
    }
   ],
   "source": [
    "df_persons.value_counts([\"bicycle_availability_by_vehicles\", \"bicycle_availability_by_use\"]).sort_index()"
   ]
  },
  {
   "cell_type": "markdown",
   "metadata": {},
   "source": [
    "### Output"
   ]
  },
  {
   "cell_type": "code",
   "execution_count": 12,
   "metadata": {},
   "outputs": [],
   "source": [
    "df_persons[[\n",
    "    \"person_id\",\n",
    "    \"car_availability_by_use\", \"car_availability_by_vehicles\",\n",
    "    \"motorbike_availability_by_use\", \"motorbike_availability_by_vehicles\",\n",
    "    \"bicycle_availability_by_use\", \"bicycle_availability_by_vehicles\"\n",
    "]].to_parquet(output_path)"
   ]
  }
 ],
 "metadata": {
  "kernelspec": {
   "display_name": "Python 3 (ipykernel)",
   "language": "python",
   "name": "python3"
  },
  "language_info": {
   "codemirror_mode": {
    "name": "ipython",
    "version": 3
   },
   "file_extension": ".py",
   "mimetype": "text/x-python",
   "name": "python",
   "nbconvert_exporter": "python",
   "pygments_lexer": "ipython3",
   "version": "3.12.0"
  }
 },
 "nbformat": 4,
 "nbformat_minor": 4
}
