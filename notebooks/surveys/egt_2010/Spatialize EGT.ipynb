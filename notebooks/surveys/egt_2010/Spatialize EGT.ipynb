{
 "cells": [
  {
   "cell_type": "code",
   "execution_count": 1,
   "metadata": {},
   "outputs": [],
   "source": [
    "import pandas as pd\n",
    "import geopandas as gpd\n",
    "import numpy as np\n",
    "import shapely.geometry as geo"
   ]
  },
  {
   "cell_type": "code",
   "execution_count": 2,
   "metadata": {},
   "outputs": [],
   "source": [
    "survey_path = \"../../../results/surveys/egt_2010/cleaned\"\n",
    "spatial_path = \"../../../resources/surveys/egt_2010/spatial\"\n",
    "\n",
    "output_path = \"../../../results/surveys/egt_2010/spatial.parquet\""
   ]
  },
  {
   "cell_type": "code",
   "execution_count": 3,
   "metadata": {},
   "outputs": [],
   "source": [
    "if \"papermill\" in locals():\n",
    "    survey_path = papermill.input[\"survey\"]\n",
    "    spatial_path = papermill.input[\"spatial\"]\n",
    "\n",
    "    output_path = papermill.output[0]"
   ]
  },
  {
   "cell_type": "code",
   "execution_count": 4,
   "metadata": {},
   "outputs": [],
   "source": [
    "# Load spatial data\n",
    "df_spatial = gpd.read_file(\"{}/carr100m.shp\".format(spatial_path))[[\"IDENT\", \"geometry\"]]\n",
    "df_spatial.crs = \"EPSG:27561\"\n",
    "df_spatial = df_spatial.rename(columns = { \"IDENT\": \"location_id\" })\n",
    "df_spatial = df_spatial.to_crs(\"EPSG:2154\")"
   ]
  },
  {
   "cell_type": "code",
   "execution_count": 5,
   "metadata": {},
   "outputs": [],
   "source": [
    "# Load trip data\n",
    "df_trips = pd.read_parquet(\"{}/trips.parquet\".format(survey_path))[[\n",
    "    \"trip_id\", \"origin_cell\", \"destination_cell\"]]"
   ]
  },
  {
   "cell_type": "code",
   "execution_count": 6,
   "metadata": {},
   "outputs": [],
   "source": [
    "# Merge in origin\n",
    "df_trips = pd.merge(df_trips, df_spatial.rename(columns = {\n",
    "    \"location_id\": \"origin_cell\", \"geometry\": \"origin_geometry\"\n",
    "}), on = \"origin_cell\", how = \"inner\")\n",
    "\n",
    "# Merge in destination\n",
    "df_trips = pd.merge(df_trips, df_spatial.rename(columns = {\n",
    "    \"location_id\": \"destination_cell\", \"geometry\": \"destination_geometry\"\n",
    "}), on = \"destination_cell\", how = \"inner\")"
   ]
  },
  {
   "cell_type": "code",
   "execution_count": 7,
   "metadata": {},
   "outputs": [],
   "source": [
    "# Convert square to point\n",
    "df_trips = gpd.GeoDataFrame(df_trips, crs = \"EPSG:2154\", geometry = \"origin_geometry\")\n",
    "df_trips[\"origin_geometry\"] = df_trips[\"origin_geometry\"].centroid\n",
    "\n",
    "df_trips = df_trips.set_geometry(\"destination_geometry\")\n",
    "df_trips[\"destination_geometry\"] = df_trips[\"destination_geometry\"].centroid"
   ]
  },
  {
   "cell_type": "code",
   "execution_count": 8,
   "metadata": {},
   "outputs": [],
   "source": [
    "# Convert to line\n",
    "df_trips[\"geometry\"] = [\n",
    "    geo.LineString([origin, destination])\n",
    "    for origin, destination in zip(df_trips[\"origin_geometry\"], df_trips[\"destination_geometry\"])\n",
    "]\n",
    "\n",
    "df_trips = df_trips.set_geometry(\"geometry\")"
   ]
  },
  {
   "cell_type": "markdown",
   "metadata": {},
   "source": [
    "### Output"
   ]
  },
  {
   "cell_type": "code",
   "execution_count": 9,
   "metadata": {},
   "outputs": [],
   "source": [
    "df_trips.crs = \"EPSG:2154\"\n",
    "df_trips.to_parquet(output_path)"
   ]
  }
 ],
 "metadata": {
  "kernelspec": {
   "display_name": "explo24",
   "language": "python",
   "name": "python3"
  },
  "language_info": {
   "codemirror_mode": {
    "name": "ipython",
    "version": 3
   },
   "file_extension": ".py",
   "mimetype": "text/x-python",
   "name": "python",
   "nbconvert_exporter": "python",
   "pygments_lexer": "ipython3",
   "version": "3.12.0"
  }
 },
 "nbformat": 4,
 "nbformat_minor": 2
}
