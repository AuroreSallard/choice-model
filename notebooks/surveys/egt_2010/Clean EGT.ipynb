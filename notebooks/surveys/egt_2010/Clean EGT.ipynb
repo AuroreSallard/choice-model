{
 "cells": [
  {
   "cell_type": "code",
   "execution_count": 53,
   "id": "d2e043ba",
   "metadata": {},
   "outputs": [],
   "source": [
    "import pandas as pd\n",
    "import numpy as np\n",
    "import geopandas as gpd\n",
    "import numpy.linalg as la\n",
    "import os"
   ]
  },
  {
   "cell_type": "code",
   "execution_count": 54,
   "metadata": {},
   "outputs": [],
   "source": [
    "survey_path = \"../../../resources/surveys/egt_2010/survey\"\n",
    "output_path = \"../../../results/surveys/egt_2010/cleaned\""
   ]
  },
  {
   "cell_type": "code",
   "execution_count": 55,
   "id": "cbd959f9",
   "metadata": {},
   "outputs": [],
   "source": [
    "if \"papermill\" in locals():\n",
    "    survey_path = papermill.input[0]\n",
    "    output_path = papermill.output[0]"
   ]
  },
  {
   "cell_type": "code",
   "execution_count": 56,
   "id": "c29395a7",
   "metadata": {},
   "outputs": [],
   "source": [
    "households_path = \"{}/Menages_semaine.csv\".format(survey_path)\n",
    "assert os.path.exists(households_path)\n",
    "\n",
    "persons_path = \"{}/Personnes_semaine.csv\".format(survey_path)\n",
    "assert os.path.exists(households_path)\n",
    "\n",
    "trips_path = \"{}/Deplacements_semaine.csv\".format(survey_path)\n",
    "assert os.path.exists(households_path)\n",
    "\n",
    "legs_path = \"{}/Trajets_semaine.csv\".format(survey_path)\n",
    "assert os.path.exists(households_path)"
   ]
  },
  {
   "cell_type": "code",
   "execution_count": 57,
   "id": "f006d837",
   "metadata": {},
   "outputs": [],
   "source": [
    "# Read households\n",
    "df_households = pd.read_csv(\n",
    "    households_path,\n",
    "    sep = \",\", encoding = \"latin1\", usecols = [\n",
    "    \"NQUEST\", \"NB_VD\", \"NB_VELO\", \"NB_2RM\", \"REVENU\", \"MNP\"\n",
    "])\n",
    "\n",
    "# Read persons\n",
    "df_persons = pd.read_csv(\n",
    "    persons_path,\n",
    "    sep = \",\", encoding = \"latin1\", usecols = [\n",
    "        \"RESDEP\", \"NP\", \"POIDSP\", \"NQUEST\", \"SEXE\", \"AGE\", \"PERMVP\",\n",
    "        \"ABONTC\", \"OCCP\", \"PERM2RM\", \"NBDEPL\", \"CS8\", \"PERMVP\", \"PERM2RM\"\n",
    "    ]\n",
    ")\n",
    "\n",
    "# Read trips\n",
    "df_trips = pd.read_csv(\n",
    "    trips_path,\n",
    "    sep = \",\", encoding = \"latin1\", usecols = [\n",
    "        \"NQUEST\", \"NP\", \"ND\",\n",
    "        \"ORDEP\", \"DESTDEP\", \"ORH\", \"DESTH\", \"ORM\", \"DESTM\", \"ORCOMM\", \"DESTCOMM\",\n",
    "        \"DPORTEE\", \"MODP_H7\", \"DESTMOT_H9\", \"ORMOT_H9\",\n",
    "        \"ORCOMM\", \"DESTCOMM\", \"DUREE\", \"ORC\", \"DESTC\",\n",
    "        \"ORMOT\", \"DESTMOT\"\n",
    "    ]\n",
    ")\n",
    "\n",
    "# Read legs\n",
    "df_legs = pd.read_csv(\n",
    "    legs_path,\n",
    "    sep = \",\", encoding = \"latin1\", usecols = [\n",
    "        \"NQUEST\", \"NP\", \"ND\", \"MOYEN\", \"NT\", \"TPORTEE\"\n",
    "    ]\n",
    ")"
   ]
  },
  {
   "cell_type": "code",
   "execution_count": 58,
   "id": "e0cb43ee",
   "metadata": {},
   "outputs": [],
   "source": [
    "# Assign IDs to households\n",
    "df_households = df_households.sort_values(by = \"NQUEST\")\n",
    "df_households[\"household_id\"] = np.arange(len(df_households))\n",
    "\n",
    "# Assign IDs to persons\n",
    "df_persons = df_persons.sort_values(by = [\"NQUEST\", \"NP\"])\n",
    "df_persons[\"person_id\"] = np.arange(len(df_persons))\n",
    "df_persons = pd.merge(df_persons, df_households[[\"NQUEST\", \"household_id\"]], on = \"NQUEST\")\n",
    "\n",
    "# Assign IDs to trips\n",
    "df_trips = df_trips.sort_values(by = [\"NQUEST\", \"NP\", \"ND\"])\n",
    "df_trips[\"trip_id\"] = np.arange(len(df_trips))\n",
    "df_trips[\"trip_sequence\"] = df_trips[\"ND\"].astype(int)\n",
    "df_trips = pd.merge(df_trips, df_persons[[\"NQUEST\", \"NP\", \"person_id\", \"household_id\"]], on = [\"NQUEST\", \"NP\"])\n",
    "\n",
    "# Assign IDs to legs\n",
    "df_legs = df_legs.sort_values(by = [\"NQUEST\", \"NP\", \"ND\", \"NT\"])\n",
    "df_legs[\"leg_id\"] = np.arange(len(df_legs))\n",
    "df_legs[\"trip_sequence\"] = df_legs[\"ND\"].astype(int)\n",
    "df_legs[\"leg_sequence\"] = df_legs[\"NT\"].astype(int)\n",
    "df_legs = pd.merge(df_legs, df_trips[[\"NQUEST\", \"NP\", \"ND\", \"person_id\", \"household_id\", \"trip_id\"]], on = [\"NQUEST\", \"NP\", \"ND\"])"
   ]
  },
  {
   "cell_type": "markdown",
   "id": "7cb93299",
   "metadata": {},
   "source": [
    "### Households"
   ]
  },
  {
   "cell_type": "code",
   "execution_count": 59,
   "id": "fcc77a1a",
   "metadata": {},
   "outputs": [],
   "source": [
    "df_households[\"number_of_cars\"] = df_households[\"NB_VD\"]\n",
    "df_households[\"number_of_motorbikes\"] = df_households[\"NB_2RM\"]\n",
    "df_households[\"number_of_bicycles\"] = df_households[\"NB_VELO\"]\n",
    "\n",
    "INCOME_UPPER_BOUNDS = [800, 1200, 1600, 2000, 2400, 3000, 3500, 4500, 5500]\n",
    "df_households[\"income_EUR\"] = np.nan\n",
    "\n",
    "for income_class, value in enumerate(INCOME_UPPER_BOUNDS):\n",
    "    f = df_households[\"REVENU\"] == income_class - 1\n",
    "    df_households.loc[f, \"income_EUR\"] = float(INCOME_UPPER_BOUNDS[income_class - 1])\n",
    "\n",
    "df_households[\"income_per_person_EUR\"] = df_households[\"income_EUR\"] / df_households[\"MNP\"]\n",
    "\n",
    "df_households = df_households[[\n",
    "    \"household_id\", \"number_of_cars\", \n",
    "    \"number_of_motorbikes\", \"number_of_bicycles\",\n",
    "    \"income_EUR\", \"income_per_person_EUR\"]]"
   ]
  },
  {
   "cell_type": "markdown",
   "id": "26d93b34",
   "metadata": {},
   "source": [
    "### Persons"
   ]
  },
  {
   "cell_type": "code",
   "execution_count": 60,
   "id": "cffa00fb",
   "metadata": {},
   "outputs": [],
   "source": [
    "df_persons[\"weight\"] = df_persons[\"POIDSP\"]\n",
    "df_persons[\"home_departement_id\"] = df_persons[\"RESDEP\"].astype(str)\n",
    "df_persons[\"has_driving_permit\"] = df_persons[\"PERMVP\"] == 1\n",
    "df_persons[\"has_motorbike_permit\"] = df_persons[\"PERM2RM\"] == 1\n",
    "df_persons[\"has_pt_subscription\"] = df_persons[\"ABONTC\"] != 1\n",
    "df_persons[\"age\"] = df_persons[\"AGE\"].astype(int)\n",
    "\n",
    "# we assume \"small\" motorbikes\n",
    "df_persons[\"has_motorbike_permit\"] |= df_persons[\"has_driving_permit\"]"
   ]
  },
  {
   "cell_type": "code",
   "execution_count": 61,
   "id": "c9c54b2d",
   "metadata": {},
   "outputs": [],
   "source": [
    "df_persons = df_persons[[\n",
    "    \"household_id\", \"person_id\", \"has_driving_permit\", \"has_motorbike_permit\", \"has_pt_subscription\", \"age\", \n",
    "    \"weight\"]]"
   ]
  },
  {
   "cell_type": "markdown",
   "id": "75c5b46f",
   "metadata": {},
   "source": [
    "### Trips"
   ]
  },
  {
   "cell_type": "code",
   "execution_count": 62,
   "id": "c38ea932",
   "metadata": {},
   "outputs": [],
   "source": [
    "# Trip mode\n",
    "MODES_MAP = {\n",
    "    1 : \"pt\",\n",
    "    2 : \"car\",\n",
    "    3 : \"car_passenger\",\n",
    "    4 : \"motorbike\",\n",
    "    5 : \"bicycle\",\n",
    "    7 : \"walk\"\n",
    "}\n",
    "\n",
    "df_trips[\"mode\"] = \"pt\"\n",
    "\n",
    "for category, mode in MODES_MAP.items():\n",
    "    df_trips.loc[df_trips[\"MODP_H7\"] == category, \"mode\"] = mode"
   ]
  },
  {
   "cell_type": "code",
   "execution_count": 63,
   "id": "eaf9977b",
   "metadata": {},
   "outputs": [],
   "source": [
    "# Departments\n",
    "df_trips[\"origin_departement_id\"] = df_trips[\"ORDEP\"].astype(str)\n",
    "df_trips[\"destination_departement_id\"] = df_trips[\"DESTDEP\"].astype(str)"
   ]
  },
  {
   "cell_type": "code",
   "execution_count": 64,
   "id": "f5460d02",
   "metadata": {},
   "outputs": [],
   "source": [
    "# Municipalities\n",
    "df_trips[\"origin_municipality_id\"] = df_trips[\"ORCOMM\"].astype(str)\n",
    "df_trips[\"destination_municipality_id\"] = df_trips[\"DESTCOMM\"].astype(str)"
   ]
  },
  {
   "cell_type": "code",
   "execution_count": 65,
   "id": "c882bcde",
   "metadata": {},
   "outputs": [],
   "source": [
    "# Further trip attributes\n",
    "df_trips[\"euclidean_distance\"] = df_trips[\"DPORTEE\"] * 1000.0"
   ]
  },
  {
   "cell_type": "code",
   "execution_count": 66,
   "id": "43d191bb",
   "metadata": {},
   "outputs": [],
   "source": [
    "df_trips[\"departure_time\"] = df_trips[\"ORH\"] * 3600 + df_trips[\"ORM\"] * 60\n",
    "df_trips[\"travel_time\"] = df_trips[\"DUREE\"] * 60"
   ]
  },
  {
   "cell_type": "code",
   "execution_count": 67,
   "id": "4b6ad8e1",
   "metadata": {},
   "outputs": [],
   "source": [
    "df_trips[\"origin_cell\"] = df_trips[\"ORC\"]\n",
    "df_trips[\"destination_cell\"] = df_trips[\"DESTC\"]"
   ]
  },
  {
   "cell_type": "code",
   "execution_count": 68,
   "metadata": {},
   "outputs": [],
   "source": [
    "ACTIVITY_TYPE_MAP = {\n",
    "    \"home\": (1,),\n",
    "    \"work\": (2,3),\n",
    "    \"education\": (4,),\n",
    "    \"shop\": (5,),\n",
    "    \"leisure\": (8,)\n",
    "}"
   ]
  },
  {
   "cell_type": "code",
   "execution_count": 69,
   "metadata": {},
   "outputs": [],
   "source": [
    "df_trips[\"origin_activity_type\"] = \"other\"\n",
    "df_trips[\"destination_activity_type\"] = \"other\"\n",
    "\n",
    "for activity_type, values in ACTIVITY_TYPE_MAP.items():\n",
    "    df_trips.loc[df_trips[\"ORMOT_H9\"].isin(values), \"origin_activity_type\"] = activity_type\n",
    "    df_trips.loc[df_trips[\"DESTMOT_H9\"].isin(values), \"destination_activity_type\"] = activity_type"
   ]
  },
  {
   "cell_type": "code",
   "execution_count": 70,
   "id": "67987b3d",
   "metadata": {},
   "outputs": [],
   "source": [
    "df_trips = df_trips[[\n",
    "    \"household_id\", \"person_id\", \"trip_id\", \"trip_sequence\", \"mode\", \"euclidean_distance\",\n",
    "    \"origin_municipality_id\", \"destination_municipality_id\", \"travel_time\", \"departure_time\",\n",
    "    \"origin_cell\", \"destination_cell\", \"origin_activity_type\", \"destination_activity_type\"\n",
    "]]"
   ]
  },
  {
   "cell_type": "markdown",
   "id": "e52213ff",
   "metadata": {},
   "source": [
    "### Legs"
   ]
  },
  {
   "cell_type": "code",
   "execution_count": 71,
   "id": "c32b8d55",
   "metadata": {},
   "outputs": [],
   "source": [
    "# Leg mode\n",
    "LEG_MODES_MAP = {\n",
    "    1 : (\"walk\", \"walk\"),\n",
    "    \n",
    "    10 : (\"pt\", \"rail\"),\n",
    "    11 : (\"pt\", \"rail\"),\n",
    "    12 : (\"pt\", \"funicular\"),\n",
    "    13 : (\"pt\", \"subway\"),\n",
    "    14 : (\"pt\", \"tram\"),\n",
    "    15 : (\"pt\", \"bus\"),\n",
    "    16 : (\"pt\", \"bus\"),\n",
    "    17 : (\"pt\", \"bus\"),\n",
    "    18 : (\"pt\", \"bus\"),\n",
    "    19 : (\"pt\", \"bus\"),\n",
    "\n",
    "    20 : (\"pt\", \"other\"),\n",
    "    30 : (\"pt\", \"other\"),\n",
    "    31 : (\"pt\", \"other\"),\n",
    "    32 : (\"pt\", \"other\"),\n",
    "    33 : (\"pt\", \"other\"),\n",
    "    34 : (\"pt\", \"other\"),\n",
    "    \n",
    "    35 : (\"pt\", \"other\"),\n",
    "\n",
    "    40 : (\"pt\", \"other\"),\n",
    "    41 : (\"pt\", \"rail\"),\n",
    "    42 : (\"pt\", \"rail\"),\n",
    "    43 : (\"pt\", \"rail\"),\n",
    "\n",
    "    50 : (\"car\", \"car\"),\n",
    "    51 : (\"car\", \"car\"),\n",
    "    52 : (\"car\", \"car\"),\n",
    "    53 : (\"car\", \"car\"),\n",
    "\n",
    "    54 : (\"car\", \"car\"),\n",
    "    55 : (\"car\", \"car\"),\n",
    "\n",
    "    60 : (\"bike\", \"bike\"),\n",
    "    61 : (\"bike\", \"bike\"),\n",
    "    62 : (\"bike\", \"bike\"),\n",
    "    63 : (\"bike\", \"bike\"),\n",
    "\n",
    "    70 : (\"car_passenger\", \"car_passenger\"),\n",
    "    71 : (\"car_passenger\", \"car_passenger\"),\n",
    "    72 : (\"car_passenger\", \"car_passenger\"),\n",
    "    73 : (\"car_passenger\", \"car_passenger\"),\n",
    "\n",
    "    74 : (\"car_passenger\", \"car_passenger\"),\n",
    "    75 : (\"car_passenger\", \"car_passenger\"),\n",
    "\n",
    "    80 : (\"other\", \"other\"),\n",
    "    81 : (\"other\", \"other\"),\n",
    "    82 : (\"other\", \"other\"),\n",
    "}\n",
    "\n",
    "df_legs[\"mode\"] = \"other\"\n",
    "df_legs[\"transit_mode\"] = \"other\"\n",
    "df_legs[\"mode_code\"] = df_legs[\"MOYEN\"]\n",
    "\n",
    "for category, (leg_mode, transit_mode) in LEG_MODES_MAP.items():\n",
    "    df_legs.loc[df_legs[\"MOYEN\"] == category, \"mode\"] = leg_mode\n",
    "    df_legs.loc[df_legs[\"MOYEN\"] == category, \"transit_mode\"] = transit_mode"
   ]
  },
  {
   "cell_type": "code",
   "execution_count": 72,
   "id": "796b341b",
   "metadata": {},
   "outputs": [],
   "source": [
    "df_legs = df_legs[[\"household_id\", \"person_id\", \"trip_id\", \"leg_id\", \"trip_sequence\", \"leg_sequence\",\n",
    "    \"mode\", \"transit_mode\", \"mode_code\"]]"
   ]
  },
  {
   "cell_type": "markdown",
   "metadata": {},
   "source": [
    "### Checking for NaN"
   ]
  },
  {
   "cell_type": "code",
   "execution_count": 73,
   "metadata": {},
   "outputs": [
    {
     "name": "stdout",
     "output_type": "stream",
     "text": [
      "euclidean_distance 926\n",
      "travel_time 1027\n",
      "departure_time 71\n",
      "origin_cell 536\n",
      "destination_cell 353\n"
     ]
    }
   ],
   "source": [
    "# Households, persons, legs don't have any NaNs\n",
    "# Trips has some NaNs for trips that go out of the region, we add a dummy to indicate that\n",
    "\n",
    "df_trips[\"is_valid\"] = True\n",
    "\n",
    "for column in df_trips.columns:\n",
    "    f = df_trips[column].isna()\n",
    "    df_trips.loc[f, \"is_valid\"] = False\n",
    "\n",
    "    if np.count_nonzero(f) > 0:\n",
    "        print(column, np.count_nonzero(f))"
   ]
  },
  {
   "cell_type": "markdown",
   "metadata": {},
   "source": [
    "### Output"
   ]
  },
  {
   "cell_type": "code",
   "execution_count": 74,
   "metadata": {},
   "outputs": [],
   "source": [
    "df_households.to_parquet(\"{}/households.parquet\".format(output_path))\n",
    "df_persons.to_parquet(\"{}/persons.parquet\".format(output_path))\n",
    "df_trips.to_parquet(\"{}/trips.parquet\".format(output_path))\n",
    "df_legs.to_parquet(\"{}/legs.parquet\".format(output_path))"
   ]
  }
 ],
 "metadata": {
  "kernelspec": {
   "display_name": "explo24",
   "language": "python",
   "name": "python3"
  },
  "language_info": {
   "codemirror_mode": {
    "name": "ipython",
    "version": 3
   },
   "file_extension": ".py",
   "mimetype": "text/x-python",
   "name": "python",
   "nbconvert_exporter": "python",
   "pygments_lexer": "ipython3",
   "version": "3.12.5"
  }
 },
 "nbformat": 4,
 "nbformat_minor": 5
}
