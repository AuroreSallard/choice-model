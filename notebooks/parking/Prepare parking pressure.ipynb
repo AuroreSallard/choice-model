{
 "cells": [
  {
   "cell_type": "code",
   "execution_count": 17,
   "metadata": {},
   "outputs": [],
   "source": [
    "import pandas as pd\n",
    "import geopandas as gpd"
   ]
  },
  {
   "cell_type": "code",
   "execution_count": 18,
   "metadata": {},
   "outputs": [],
   "source": [
    "area_path = \"../../results/spatial/iris.parquet\"\n",
    "housing_path = \"../../results/parking/housing.parquet\"\n",
    "network_path = \"../../results/parking/network.parquet\"\n",
    "\n",
    "parking_length = 5.0\n",
    "\n",
    "output_path = \"../../results/parking/parking_pressure.parquet\""
   ]
  },
  {
   "cell_type": "code",
   "execution_count": 19,
   "metadata": {},
   "outputs": [],
   "source": [
    "df_area = gpd.read_parquet(area_path)\n",
    "df_housing = pd.read_parquet(housing_path)\n",
    "df_network = pd.read_parquet(network_path)"
   ]
  },
  {
   "cell_type": "code",
   "execution_count": 20,
   "metadata": {},
   "outputs": [],
   "source": [
    "df_parking = df_area.copy()\n",
    "df_parking = pd.merge(df_parking, df_housing, how = \"left\", on = \"iris\")\n",
    "df_parking = pd.merge(df_parking, df_network, how = \"left\", on = \"iris\")"
   ]
  },
  {
   "cell_type": "code",
   "execution_count": 21,
   "metadata": {},
   "outputs": [],
   "source": [
    "df_parking[\"parking_pressure\"] = df_parking[\"has_minimum_one_car\"] / (\n",
    "    df_parking[\"has_minimum_one_parking\"] + df_parking[\"length\"] / parking_length)\n",
    "\n",
    "df_pressure = df_parking[[\"iris\", \"parking_pressure\", \"geometry\"]]\n",
    "df_pressure.to_parquet(output_path)"
   ]
  }
 ],
 "metadata": {
  "kernelspec": {
   "display_name": "explo24",
   "language": "python",
   "name": "python3"
  },
  "language_info": {
   "codemirror_mode": {
    "name": "ipython",
    "version": 3
   },
   "file_extension": ".py",
   "mimetype": "text/x-python",
   "name": "python",
   "nbconvert_exporter": "python",
   "pygments_lexer": "ipython3",
   "version": "3.12.0"
  }
 },
 "nbformat": 4,
 "nbformat_minor": 2
}
