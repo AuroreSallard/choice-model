{
 "cells": [
  {
   "cell_type": "code",
   "execution_count": 41,
   "metadata": {},
   "outputs": [],
   "source": [
    "import pandas as pd\n",
    "import geopandas as gpd\n",
    "import zipfile"
   ]
  },
  {
   "cell_type": "code",
   "execution_count": 42,
   "metadata": {},
   "outputs": [],
   "source": [
    "housing_path = \"../../resources/housing/base-ic-logement-2018_csv.zip\"\n",
    "area_path = \"../../results/spatial/iris.parquet\"\n",
    "\n",
    "output_path = \"../../results/parking/housing.parquet\""
   ]
  },
  {
   "cell_type": "code",
   "execution_count": 43,
   "metadata": {},
   "outputs": [
    {
     "name": "stderr",
     "output_type": "stream",
     "text": [
      "/tmp/ipykernel_355110/233207769.py:3: DtypeWarning: Columns (1,4,81,82,83,84,85,86,91,92,93,94) have mixed types. Specify dtype option on import or set low_memory=False.\n",
      "  df_housing = pd.read_csv(f, sep = \";\", dtype = {\n"
     ]
    }
   ],
   "source": [
    "with zipfile.ZipFile(housing_path) as archive:\n",
    "    with archive.open(\"base-ic-logement-2018.CSV\") as f:\n",
    "        df_housing = pd.read_csv(f, sep = \";\", dtype = {\n",
    "            \"IRIS\": str\n",
    "        })"
   ]
  },
  {
   "cell_type": "code",
   "execution_count": 44,
   "metadata": {},
   "outputs": [],
   "source": [
    "df_housing = df_housing[[\n",
    "    \"IRIS\", \"P18_RP_GARL\", \"P18_RP_VOIT1\", \"P18_RP_VOIT2P\"\n",
    "]].rename(columns = { \n",
    "    \"IRIS\": \"iris\", \"P18_RP_GARL\": \"has_minimum_one_parking\", \n",
    "    \"P18_RP_VOIT1\": \"has_minimum_one_car\", \"P18_RP_VOIT2P\": \"has_minimum_two_cars\"\n",
    "})"
   ]
  },
  {
   "cell_type": "code",
   "execution_count": 45,
   "metadata": {},
   "outputs": [],
   "source": [
    "df_area = gpd.read_parquet(area_path)\n",
    "df_housing = df_housing[df_housing[\"iris\"].isin(df_area[\"iris\"])]"
   ]
  },
  {
   "cell_type": "code",
   "execution_count": 46,
   "metadata": {},
   "outputs": [],
   "source": [
    "df_housing.to_parquet(output_path)"
   ]
  }
 ],
 "metadata": {
  "kernelspec": {
   "display_name": "explo24",
   "language": "python",
   "name": "python3"
  },
  "language_info": {
   "codemirror_mode": {
    "name": "ipython",
    "version": 3
   },
   "file_extension": ".py",
   "mimetype": "text/x-python",
   "name": "python",
   "nbconvert_exporter": "python",
   "pygments_lexer": "ipython3",
   "version": "3.12.0"
  }
 },
 "nbformat": 4,
 "nbformat_minor": 2
}
