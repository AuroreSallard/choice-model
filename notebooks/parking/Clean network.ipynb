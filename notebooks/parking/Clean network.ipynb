{
 "cells": [
  {
   "cell_type": "code",
   "execution_count": 3,
   "metadata": {},
   "outputs": [],
   "source": [
    "import geopandas as gpd\n",
    "import pandas as pd\n",
    "import py7zr, tempfile\n",
    "import fiona\n",
    "import shapely.geometry as sgeo\n",
    "from tqdm.notebook import tqdm\n",
    "import glob"
   ]
  },
  {
   "cell_type": "code",
   "execution_count": 5,
   "metadata": {},
   "outputs": [],
   "source": [
    "network_path = \"../../resources/network\"\n",
    "area_path = \"../../results/spatial/iris.parquet\"\n",
    "\n",
    "output_path = \"../../results/parking/network.parquet\""
   ]
  },
  {
   "cell_type": "code",
   "execution_count": 10,
   "metadata": {},
   "outputs": [],
   "source": [
    "df_area = gpd.read_parquet(area_path)"
   ]
  },
  {
   "cell_type": "code",
   "execution_count": 9,
   "metadata": {},
   "outputs": [
    {
     "name": "stdout",
     "output_type": "stream",
     "text": [
      "Extracting ../../resources/network/BDTOPO_3-0_TOUSTHEMES_GPKG_LAMB93_D077_2022-03-15.7z\n",
      "  Processing /tmp/tmpowckvou8/BDTOPO_3-0_TOUSTHEMES_GPKG_LAMB93_D077_2022-03-15/BDTOPO/1_DONNEES_LIVRAISON_2022-03-00088/BDT_3-0_GPKG_LAMB93_D077-ED2022-03-15/BDT_3-0_GPKG_LAMB93_D077-ED2022-03-15.gpkg\n"
     ]
    },
    {
     "data": {
      "application/vnd.jupyter.widget-view+json": {
       "model_id": "5cd23fa0aed340d893323b314792a212",
       "version_major": 2,
       "version_minor": 0
      },
      "text/plain": [
       "  0%|          | 0/362351 [00:00<?, ?it/s]"
      ]
     },
     "metadata": {},
     "output_type": "display_data"
    },
    {
     "name": "stdout",
     "output_type": "stream",
     "text": [
      "Extracting ../../resources/network/BDTOPO_3-0_TOUSTHEMES_GPKG_LAMB93_D075_2022-03-15.7z\n",
      "  Processing /tmp/tmplc4z5r58/BDTOPO_3-0_TOUSTHEMES_GPKG_LAMB93_D075_2022-03-15/BDTOPO/1_DONNEES_LIVRAISON_2022-03-00088/BDT_3-0_GPKG_LAMB93_D075-ED2022-03-15/BDT_3-0_GPKG_LAMB93_D075-ED2022-03-15.gpkg\n"
     ]
    },
    {
     "data": {
      "application/vnd.jupyter.widget-view+json": {
       "model_id": "0e2395a1ff214ff7b4c5474fdb50ff51",
       "version_major": 2,
       "version_minor": 0
      },
      "text/plain": [
       "  0%|          | 0/138559 [00:00<?, ?it/s]"
      ]
     },
     "metadata": {},
     "output_type": "display_data"
    },
    {
     "name": "stdout",
     "output_type": "stream",
     "text": [
      "Extracting ../../resources/network/BDTOPO_3-0_TOUSTHEMES_GPKG_LAMB93_D092_2022-03-15.7z\n",
      "  Processing /tmp/tmpzy9ty12z/BDTOPO_3-0_TOUSTHEMES_GPKG_LAMB93_D092_2022-03-15/BDTOPO/1_DONNEES_LIVRAISON_2022-03-00088/BDT_3-0_GPKG_LAMB93_D092-ED2022-03-15/BDT_3-0_GPKG_LAMB93_D092-ED2022-03-15.gpkg\n"
     ]
    },
    {
     "data": {
      "application/vnd.jupyter.widget-view+json": {
       "model_id": "ddc716f43f764107ad411d2d5e242a21",
       "version_major": 2,
       "version_minor": 0
      },
      "text/plain": [
       "  0%|          | 0/171301 [00:00<?, ?it/s]"
      ]
     },
     "metadata": {},
     "output_type": "display_data"
    },
    {
     "name": "stdout",
     "output_type": "stream",
     "text": [
      "Extracting ../../resources/network/BDTOPO_3-0_TOUSTHEMES_GPKG_LAMB93_D095_2022-03-15.7z\n",
      "  Processing /tmp/tmp4rhp0s3f/BDTOPO_3-0_TOUSTHEMES_GPKG_LAMB93_D095_2022-03-15/BDTOPO/1_DONNEES_LIVRAISON_2022-03-00088/BDT_3-0_GPKG_LAMB93_D095-ED2022-03-15/BDT_3-0_GPKG_LAMB93_D095-ED2022-03-15.gpkg\n"
     ]
    },
    {
     "data": {
      "application/vnd.jupyter.widget-view+json": {
       "model_id": "d20f9d9eaecc4f81b925089ec847c0ca",
       "version_major": 2,
       "version_minor": 0
      },
      "text/plain": [
       "  0%|          | 0/212428 [00:00<?, ?it/s]"
      ]
     },
     "metadata": {},
     "output_type": "display_data"
    },
    {
     "name": "stdout",
     "output_type": "stream",
     "text": [
      "Extracting ../../resources/network/BDTOPO_3-0_TOUSTHEMES_GPKG_LAMB93_D093_2022-03-15.7z\n",
      "  Processing /tmp/tmp3mz49ho9/BDTOPO_3-0_TOUSTHEMES_GPKG_LAMB93_D093_2022-03-15/BDTOPO/1_DONNEES_LIVRAISON_2022-03-00088/BDT_3-0_GPKG_LAMB93_D093-ED2022-03-15/BDT_3-0_GPKG_LAMB93_D093-ED2022-03-15.gpkg\n"
     ]
    },
    {
     "data": {
      "application/vnd.jupyter.widget-view+json": {
       "model_id": "6498760250d64f81898cdaa0af92040a",
       "version_major": 2,
       "version_minor": 0
      },
      "text/plain": [
       "  0%|          | 0/170916 [00:00<?, ?it/s]"
      ]
     },
     "metadata": {},
     "output_type": "display_data"
    },
    {
     "name": "stdout",
     "output_type": "stream",
     "text": [
      "Extracting ../../resources/network/BDTOPO_3-0_TOUSTHEMES_GPKG_LAMB93_D094_2022-03-15.7z\n",
      "  Processing /tmp/tmpx967ua2m/BDTOPO_3-0_TOUSTHEMES_GPKG_LAMB93_D094_2022-03-15/BDTOPO/1_DONNEES_LIVRAISON_2022-03-00088/BDT_3-0_GPKG_LAMB93_D094-ED2022-03-15/BDT_3-0_GPKG_LAMB93_D094-ED2022-03-15.gpkg\n"
     ]
    },
    {
     "data": {
      "application/vnd.jupyter.widget-view+json": {
       "model_id": "f016669b97874db2bd083734c44cf220",
       "version_major": 2,
       "version_minor": 0
      },
      "text/plain": [
       "  0%|          | 0/166395 [00:00<?, ?it/s]"
      ]
     },
     "metadata": {},
     "output_type": "display_data"
    },
    {
     "name": "stdout",
     "output_type": "stream",
     "text": [
      "Extracting ../../resources/network/BDTOPO_3-0_TOUSTHEMES_GPKG_LAMB93_D078_2022-03-15.7z\n",
      "  Processing /tmp/tmpl1oi2ljj/BDTOPO_3-0_TOUSTHEMES_GPKG_LAMB93_D078_2022-03-15/BDTOPO/1_DONNEES_LIVRAISON_2022-03-00088/BDT_3-0_GPKG_LAMB93_D078-ED2022-03-15/BDT_3-0_GPKG_LAMB93_D078-ED2022-03-15.gpkg\n"
     ]
    },
    {
     "data": {
      "application/vnd.jupyter.widget-view+json": {
       "model_id": "c25e2fe1f8184cc49b7011eae4828ff3",
       "version_major": 2,
       "version_minor": 0
      },
      "text/plain": [
       "  0%|          | 0/283329 [00:00<?, ?it/s]"
      ]
     },
     "metadata": {},
     "output_type": "display_data"
    },
    {
     "name": "stdout",
     "output_type": "stream",
     "text": [
      "Extracting ../../resources/network/BDTOPO_3-0_TOUSTHEMES_GPKG_LAMB93_D091_2022-03-15.7z\n",
      "  Processing /tmp/tmpq0x8xfqn/BDTOPO_3-0_TOUSTHEMES_GPKG_LAMB93_D091_2022-03-15/BDTOPO/1_DONNEES_LIVRAISON_2022-03-00088/BDT_3-0_GPKG_LAMB93_D091-ED2022-03-15/BDT_3-0_GPKG_LAMB93_D091-ED2022-03-15.gpkg\n"
     ]
    },
    {
     "data": {
      "application/vnd.jupyter.widget-view+json": {
       "model_id": "79356e88701949b89daa66bd3f329d1c",
       "version_major": 2,
       "version_minor": 0
      },
      "text/plain": [
       "  0%|          | 0/232931 [00:00<?, ?it/s]"
      ]
     },
     "metadata": {},
     "output_type": "display_data"
    }
   ],
   "source": [
    "df_geometry = []\n",
    "\n",
    "for archive_path in glob.glob(\"{}/*\".format(network_path)):\n",
    "    with tempfile.TemporaryDirectory() as directory:\n",
    "        with py7zr.SevenZipFile(archive_path) as archive:\n",
    "                print(\"Extracting\", archive_path)\n",
    "                archive.extractall(directory) \n",
    "\n",
    "                source_path = list(glob.glob(\"{}/**/*.gpkg\".format(directory), recursive = True))\n",
    "                assert len(source_path) == 1\n",
    "                source_path = source_path[0]\n",
    "\n",
    "                print(\"  Processing\", source_path)\n",
    "\n",
    "                with fiona.open(source_path, layer = \"troncon_de_route\") as source:\n",
    "                    for record in tqdm(source):\n",
    "                        if pd.to_numeric(record[\"properties\"][\"importance\"]) >= 3:\n",
    "                            df_geometry.append(sgeo.LineString(record[\"geometry\"][\"coordinates\"]))            \n",
    "\n",
    "df_geometry = gpd.GeoDataFrame(pd.DataFrame({ \"geometry\": df_geometry }), crs = \"EPSG:2154\")"
   ]
  },
  {
   "cell_type": "code",
   "execution_count": 11,
   "metadata": {},
   "outputs": [
    {
     "data": {
      "application/vnd.jupyter.widget-view+json": {
       "model_id": "02e37021cbe241e8855accf2bdad82a3",
       "version_major": 2,
       "version_minor": 0
      },
      "text/plain": [
       "  0%|          | 0/5265 [00:00<?, ?it/s]"
      ]
     },
     "metadata": {},
     "output_type": "display_data"
    }
   ],
   "source": [
    "df_network = []\n",
    "\n",
    "for index, record in tqdm(df_area.iterrows(), total = len(df_area)):\n",
    "    indices = df_geometry.sindex.intersection(record[\"geometry\"].bounds)\n",
    "    df_clip = df_geometry.iloc[indices].clip(record[\"geometry\"])\n",
    "    df_network.append({ \"iris\": record[\"iris\"], \"length\": df_clip[\"geometry\"].length.sum() })\n",
    "    \n",
    "df_network = pd.DataFrame.from_records(df_network)"
   ]
  },
  {
   "cell_type": "code",
   "execution_count": 13,
   "metadata": {},
   "outputs": [],
   "source": [
    "df_network.to_parquet(output_path)"
   ]
  }
 ],
 "metadata": {
  "kernelspec": {
   "display_name": "explo24",
   "language": "python",
   "name": "python3"
  },
  "language_info": {
   "codemirror_mode": {
    "name": "ipython",
    "version": 3
   },
   "file_extension": ".py",
   "mimetype": "text/x-python",
   "name": "python",
   "nbconvert_exporter": "python",
   "pygments_lexer": "ipython3",
   "version": "3.12.0"
  }
 },
 "nbformat": 4,
 "nbformat_minor": 2
}
